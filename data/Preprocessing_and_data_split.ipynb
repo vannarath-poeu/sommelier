{
 "cells": [
  {
   "cell_type": "markdown",
   "id": "0689a4f4",
   "metadata": {},
   "source": [
    "#### Replaced ceil with floor in ...\\cornac\\eval_methods\\ratio_split.py to cater for users with reviews less than 5, after remove duplicates\n",
    "#### Logic for remove duplicates: if UIR ==UIR (UI==UI, R!=R may be due to different vintage)\n",
    "#### Final train and test data may have same UI due to same reason"
   ]
  },
  {
   "attachments": {
    "image.png": {
     "image/png": "[encoded data removed]"
    }
   },
   "cell_type": "markdown",
   "id": "92a834eb",
   "metadata": {},
   "source": [
    "![image.png](attachment:image.png)"
   ]
  },
  {
   "cell_type": "code",
   "execution_count": 1,
   "id": "85b4f1da",
   "metadata": {
    "scrolled": true
   },
   "outputs": [
    {
     "name": "stdout",
     "output_type": "stream",
     "text": [
      "FM model is only supported on Linux.\n",
      "Windows executable can be found at http://www.libfm.org.\n",
      "System version: 3.7.13 (default, Mar 28 2022, 08:03:21) [MSC v.1916 64 bit (AMD64)]\n",
      "Cornac version: 1.14.2\n"
     ]
    }
   ],
   "source": [
    "\n",
    "import sys\n",
    "import numpy as np\n",
    "import pandas as pd\n",
    "import warnings\n",
    "warnings.filterwarnings(\"ignore\")\n",
    "import cornac\n",
    "from cornac.eval_methods import RatioSplit,StratifiedSplit\n",
    "print(f\"System version: {sys.version}\")\n",
    "print(f\"Cornac version: {cornac.__version__}\")\n",
    "SEED = 7\n",
    "VERBOSE = True\n",
    "\n"
   ]
  },
  {
   "cell_type": "code",
   "execution_count": 2,
   "id": "96bd9f9e",
   "metadata": {},
   "outputs": [
    {
     "name": "stdout",
     "output_type": "stream",
     "text": [
      "Raw count:169348, Unique records: 149452\n"
     ]
    }
   ],
   "source": [
    "url='wine_ratings_all.csv'\n",
    "df = pd.read_csv(url,sep=\",\",header=0)\n",
    "df[\"rating\"]= pd.to_numeric(df[\"rating\"], errors='coerce')\n",
    "train_df =df.drop_duplicates()\n",
    "#train_df = df.groupby([\"UserID\", \"ItemID\"]).agg({'Rating': ['mean']}).reset_index()\n",
    "print(\"Raw count:{}, Unique records: {}\".format(len(df),len(train_df)))"
   ]
  },
  {
   "cell_type": "code",
   "execution_count": 3,
   "id": "bef73dbb",
   "metadata": {},
   "outputs": [],
   "source": [
    "def value_counts_df(df, col):\n",
    "    df = pd.DataFrame(df[col].value_counts())\n",
    "    df.index.name = col\n",
    "    df.columns = ['count']\n",
    "    return df\n",
    "#value_counts_df(train_df,\"user_id\" )[value_counts_df(train_df,\"user_id\" )[\"count\"]<5]"
   ]
  },
  {
   "cell_type": "code",
   "execution_count": 4,
   "id": "ed80cb87",
   "metadata": {
    "scrolled": true
   },
   "outputs": [
    {
     "name": "stdout",
     "output_type": "stream",
     "text": [
      "rating_threshold = 1.0\n",
      "exclude_unknowns = True\n",
      "---\n",
      "Training data:\n",
      "Number of users = 5066\n",
      "Number of items = 39520\n",
      "Number of ratings = 119922\n",
      "Max rating = 5.0\n",
      "Min rating = 1.0\n",
      "Global mean = 3.9\n",
      "---\n",
      "Test data:\n",
      "Number of users = 4855\n",
      "Number of items = 9900\n",
      "Number of ratings = 22492\n",
      "Number of unknown users = 0\n",
      "Number of unknown items = 0\n",
      "---\n",
      "Total users = 5066\n",
      "Total items = 39520\n"
     ]
    }
   ],
   "source": [
    "ratings= [(x,y,z) for _,x,y,z in train_df.itertuples()]\n",
    "stratified_split=StratifiedSplit(data=ratings,group_by='user',fmt =\"UIR\",\n",
    "                                 test_size=0.2,\n",
    "                                 #val_size =0.1,\n",
    "                                 rating_threshold=1.0,\n",
    "                                 exclude_unknowns=True,\n",
    "                                 #item_text=item_text_modality,\n",
    "                                 verbose=VERBOSE,\n",
    "                                 seed=SEED,\n",
    "                                 )"
   ]
  },
  {
   "cell_type": "markdown",
   "id": "4b3e83e6",
   "metadata": {},
   "source": [
    "### write into csv"
   ]
  },
  {
   "cell_type": "code",
   "execution_count": 5,
   "id": "647946cc",
   "metadata": {},
   "outputs": [],
   "source": [
    "# Test data:\n",
    "# Number of users = 4855\n",
    "#Number of items = 9900\n",
    "#Number of ratings = 22492\n",
    "testset= stratified_split.test_set.user_data\n",
    "df0=pd.DataFrame()\n",
    "umap=stratified_split.test_set.uid_map\n",
    "uids=list(stratified_split.train_set.user_ids)\n",
    "iids=list(stratified_split.train_set.item_ids)\n",
    "for uidx in testset:\n",
    "    itms, rtngs= testset[uidx]\n",
    "    lenth=len(itms)\n",
    "    for i in range(lenth):\n",
    "        temp=pd.DataFrame([[uids[uidx],iids[itms[i]], rtngs[i]]])\n",
    "        #df=pd.DataFrame([[uidx,itms[i], rtngs[i]]])\n",
    "        df0=pd.concat([df0,temp])\n",
    "del temp\n",
    "df0.columns=list(df.columns)\n",
    "df0.to_csv(\"test_ratings_unseen.csv\", index=False)"
   ]
  },
  {
   "cell_type": "code",
   "execution_count": 6,
   "id": "8acb10aa",
   "metadata": {},
   "outputs": [],
   "source": [
    "# Training data:\n",
    "# Number of users = 5066\n",
    "# Number of items = 39520\n",
    "# Number of ratings = 119922\n",
    "trainset= stratified_split.train_set.user_data\n",
    "df1=pd.DataFrame()\n",
    "umap=stratified_split.train_set.uid_map\n",
    "uids=list(stratified_split.train_set.user_ids)\n",
    "iids=list(stratified_split.train_set.item_ids)\n",
    "for uidx in trainset:\n",
    "    itms, rtngs= trainset[uidx]\n",
    "    lenth=len(itms)\n",
    "    for i in range(lenth):\n",
    "        temp=pd.DataFrame([[uids[uidx],iids[itms[i]], rtngs[i]]])\n",
    "        #df=pd.DataFrame([[uidx,itms[i], rtngs[i]]])\n",
    "        df1=pd.concat([df1,temp])\n",
    "df1.columns=list(df.columns)\n",
    "df1.to_csv(\"train_ratings_seen.csv\", index=False)"
   ]
  },
  {
   "cell_type": "code",
   "execution_count": 7,
   "id": "64da25a1",
   "metadata": {},
   "outputs": [
    {
     "name": "stdout",
     "output_type": "stream",
     "text": [
      "119922 22492\n"
     ]
    }
   ],
   "source": [
    "print(len(df1),len(df0))"
   ]
  }
 ],
 "metadata": {
  "kernelspec": {
   "display_name": "Python 3 (ipykernel)",
   "language": "python",
   "name": "python3"
  },
  "language_info": {
   "codemirror_mode": {
    "name": "ipython",
    "version": 3
   },
   "file_extension": ".py",
   "mimetype": "text/x-python",
   "name": "python",
   "nbconvert_exporter": "python",
   "pygments_lexer": "ipython3",
   "version": "3.7.13"
  }
 },
 "nbformat": 4,
 "nbformat_minor": 5
}
