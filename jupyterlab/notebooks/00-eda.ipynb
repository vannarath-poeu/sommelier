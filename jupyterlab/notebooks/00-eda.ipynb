{
 "cells": [
  {
   "cell_type": "markdown",
   "metadata": {},
   "source": [
    "# Exploratory Data Analysis"
   ]
  },
  {
   "cell_type": "code",
   "execution_count": 1,
   "metadata": {},
   "outputs": [],
   "source": [
    "import pandas as pd"
   ]
  },
  {
   "cell_type": "code",
   "execution_count": 5,
   "metadata": {},
   "outputs": [],
   "source": [
    "df = pd.read_csv(\"../../data/review-data.csv\", index_col=0)"
   ]
  },
  {
   "cell_type": "code",
   "execution_count": 6,
   "metadata": {},
   "outputs": [
    {
     "data": {
      "text/html": [
       "<div>\n",
       "<style scoped>\n",
       "    .dataframe tbody tr th:only-of-type {\n",
       "        vertical-align: middle;\n",
       "    }\n",
       "\n",
       "    .dataframe tbody tr th {\n",
       "        vertical-align: top;\n",
       "    }\n",
       "\n",
       "    .dataframe thead th {\n",
       "        text-align: right;\n",
       "    }\n",
       "</style>\n",
       "<table border=\"1\" class=\"dataframe\">\n",
       "  <thead>\n",
       "    <tr style=\"text-align: right;\">\n",
       "      <th></th>\n",
       "      <th>Username</th>\n",
       "      <th>WineName</th>\n",
       "      <th>Winery</th>\n",
       "      <th>Rating</th>\n",
       "    </tr>\n",
       "  </thead>\n",
       "  <tbody>\n",
       "    <tr>\n",
       "      <th>0</th>\n",
       "      <td>Joel Miller</td>\n",
       "      <td>Clos de Tafall 2017</td>\n",
       "      <td>Clos Berenguer</td>\n",
       "      <td>4.5</td>\n",
       "    </tr>\n",
       "    <tr>\n",
       "      <th>1</th>\n",
       "      <td>Frank Webster</td>\n",
       "      <td>Clos de Tafall 2017</td>\n",
       "      <td>Clos Berenguer</td>\n",
       "      <td>4.5</td>\n",
       "    </tr>\n",
       "    <tr>\n",
       "      <th>2</th>\n",
       "      <td>Emil Bojar</td>\n",
       "      <td>Clos de Tafall 2017</td>\n",
       "      <td>Clos Berenguer</td>\n",
       "      <td>4.5</td>\n",
       "    </tr>\n",
       "    <tr>\n",
       "      <th>3</th>\n",
       "      <td>Mike Bor</td>\n",
       "      <td>Clos de Tafall 2017</td>\n",
       "      <td>Clos Berenguer</td>\n",
       "      <td>4.5</td>\n",
       "    </tr>\n",
       "    <tr>\n",
       "      <th>4</th>\n",
       "      <td>! DALLAS !</td>\n",
       "      <td>Clos de Tafall 2017</td>\n",
       "      <td>Clos Berenguer</td>\n",
       "      <td>4.5</td>\n",
       "    </tr>\n",
       "  </tbody>\n",
       "</table>\n",
       "</div>"
      ],
      "text/plain": [
       "        Username             WineName          Winery  Rating\n",
       "0    Joel Miller  Clos de Tafall 2017  Clos Berenguer     4.5\n",
       "1  Frank Webster  Clos de Tafall 2017  Clos Berenguer     4.5\n",
       "2     Emil Bojar  Clos de Tafall 2017  Clos Berenguer     4.5\n",
       "3       Mike Bor  Clos de Tafall 2017  Clos Berenguer     4.5\n",
       "4     ! DALLAS !  Clos de Tafall 2017  Clos Berenguer     4.5"
      ]
     },
     "execution_count": 6,
     "metadata": {},
     "output_type": "execute_result"
    }
   ],
   "source": [
    "df.head()"
   ]
  },
  {
   "cell_type": "code",
   "execution_count": 7,
   "metadata": {},
   "outputs": [
    {
     "name": "stdout",
     "output_type": "stream",
     "text": [
      "Total unique users:  323242\n"
     ]
    }
   ],
   "source": [
    "num_users = len(df[\"Username\"].unique())\n",
    "print(\"Total unique users: \", num_users)"
   ]
  },
  {
   "cell_type": "code",
   "execution_count": 8,
   "metadata": {},
   "outputs": [
    {
     "name": "stdout",
     "output_type": "stream",
     "text": [
      "Total unique wines:  638\n"
     ]
    }
   ],
   "source": [
    "num_wines = len(df[\"WineName\"].unique())\n",
    "print(\"Total unique wines: \", num_wines)"
   ]
  },
  {
   "cell_type": "code",
   "execution_count": 14,
   "metadata": {},
   "outputs": [
    {
     "data": {
      "text/html": [
       "<div>\n",
       "<style scoped>\n",
       "    .dataframe tbody tr th:only-of-type {\n",
       "        vertical-align: middle;\n",
       "    }\n",
       "\n",
       "    .dataframe tbody tr th {\n",
       "        vertical-align: top;\n",
       "    }\n",
       "\n",
       "    .dataframe thead th {\n",
       "        text-align: right;\n",
       "    }\n",
       "</style>\n",
       "<table border=\"1\" class=\"dataframe\">\n",
       "  <thead>\n",
       "    <tr style=\"text-align: right;\">\n",
       "      <th></th>\n",
       "      <th>WineName</th>\n",
       "      <th>Rating</th>\n",
       "    </tr>\n",
       "  </thead>\n",
       "  <tbody>\n",
       "    <tr>\n",
       "      <th>97</th>\n",
       "      <td>Cabernet Sauvignon 2017</td>\n",
       "      <td>19852</td>\n",
       "    </tr>\n",
       "    <tr>\n",
       "      <th>337</th>\n",
       "      <td>Malbec 2018</td>\n",
       "      <td>14445</td>\n",
       "    </tr>\n",
       "    <tr>\n",
       "      <th>433</th>\n",
       "      <td>Pinot Noir 2018</td>\n",
       "      <td>14034</td>\n",
       "    </tr>\n",
       "    <tr>\n",
       "      <th>96</th>\n",
       "      <td>Cabernet Sauvignon 2016</td>\n",
       "      <td>11241</td>\n",
       "    </tr>\n",
       "    <tr>\n",
       "      <th>587</th>\n",
       "      <td>Toscana 2015</td>\n",
       "      <td>9320</td>\n",
       "    </tr>\n",
       "    <tr>\n",
       "      <th>...</th>\n",
       "      <td>...</td>\n",
       "      <td>...</td>\n",
       "    </tr>\n",
       "    <tr>\n",
       "      <th>151</th>\n",
       "      <td>Cinsault 2018</td>\n",
       "      <td>18</td>\n",
       "    </tr>\n",
       "    <tr>\n",
       "      <th>576</th>\n",
       "      <td>The Looking Glass 2017</td>\n",
       "      <td>15</td>\n",
       "    </tr>\n",
       "    <tr>\n",
       "      <th>318</th>\n",
       "      <td>Le Tithonien Mondeuse 2018</td>\n",
       "      <td>15</td>\n",
       "    </tr>\n",
       "    <tr>\n",
       "      <th>536</th>\n",
       "      <td>Signature Pinot Noir 2016</td>\n",
       "      <td>11</td>\n",
       "    </tr>\n",
       "    <tr>\n",
       "      <th>119</th>\n",
       "      <td>Cellar Hand Punch Down Red 2015</td>\n",
       "      <td>10</td>\n",
       "    </tr>\n",
       "  </tbody>\n",
       "</table>\n",
       "<p>638 rows × 2 columns</p>\n",
       "</div>"
      ],
      "text/plain": [
       "                            WineName  Rating\n",
       "97           Cabernet Sauvignon 2017   19852\n",
       "337                      Malbec 2018   14445\n",
       "433                  Pinot Noir 2018   14034\n",
       "96           Cabernet Sauvignon 2016   11241\n",
       "587                     Toscana 2015    9320\n",
       "..                               ...     ...\n",
       "151                    Cinsault 2018      18\n",
       "576           The Looking Glass 2017      15\n",
       "318       Le Tithonien Mondeuse 2018      15\n",
       "536        Signature Pinot Noir 2016      11\n",
       "119  Cellar Hand Punch Down Red 2015      10\n",
       "\n",
       "[638 rows x 2 columns]"
      ]
     },
     "execution_count": 14,
     "metadata": {},
     "output_type": "execute_result"
    }
   ],
   "source": [
    "wine_rating_count_df = df.filter([\"WineName\", \"Rating\"], axis=1).groupby(\"WineName\").count().reset_index()\n",
    "wine_rating_count_df = wine_rating_count_df.sort_values(\"Rating\", ascending=False)\n",
    "wine_rating_count_df"
   ]
  },
  {
   "cell_type": "code",
   "execution_count": 16,
   "metadata": {},
   "outputs": [
    {
     "data": {
      "text/html": [
       "<div>\n",
       "<style scoped>\n",
       "    .dataframe tbody tr th:only-of-type {\n",
       "        vertical-align: middle;\n",
       "    }\n",
       "\n",
       "    .dataframe tbody tr th {\n",
       "        vertical-align: top;\n",
       "    }\n",
       "\n",
       "    .dataframe thead th {\n",
       "        text-align: right;\n",
       "    }\n",
       "</style>\n",
       "<table border=\"1\" class=\"dataframe\">\n",
       "  <thead>\n",
       "    <tr style=\"text-align: right;\">\n",
       "      <th></th>\n",
       "      <th>Username</th>\n",
       "      <th>Rating</th>\n",
       "    </tr>\n",
       "  </thead>\n",
       "  <tbody>\n",
       "    <tr>\n",
       "      <th>304808</th>\n",
       "      <td>Vivino User</td>\n",
       "      <td>2395</td>\n",
       "    </tr>\n",
       "    <tr>\n",
       "      <th>209544</th>\n",
       "      <td>Michael</td>\n",
       "      <td>142</td>\n",
       "    </tr>\n",
       "    <tr>\n",
       "      <th>70013</th>\n",
       "      <td>David</td>\n",
       "      <td>131</td>\n",
       "    </tr>\n",
       "    <tr>\n",
       "      <th>316857</th>\n",
       "      <td>vivino user</td>\n",
       "      <td>127</td>\n",
       "    </tr>\n",
       "    <tr>\n",
       "      <th>25899</th>\n",
       "      <td>Antonio Rollo</td>\n",
       "      <td>123</td>\n",
       "    </tr>\n",
       "    <tr>\n",
       "      <th>...</th>\n",
       "      <td>...</td>\n",
       "      <td>...</td>\n",
       "    </tr>\n",
       "    <tr>\n",
       "      <th>183021</th>\n",
       "      <td>Luca Facchi</td>\n",
       "      <td>6</td>\n",
       "    </tr>\n",
       "    <tr>\n",
       "      <th>90467</th>\n",
       "      <td>Erik the Oenophile</td>\n",
       "      <td>6</td>\n",
       "    </tr>\n",
       "    <tr>\n",
       "      <th>293948</th>\n",
       "      <td>Todd</td>\n",
       "      <td>6</td>\n",
       "    </tr>\n",
       "    <tr>\n",
       "      <th>261857</th>\n",
       "      <td>Rui Almeida</td>\n",
       "      <td>6</td>\n",
       "    </tr>\n",
       "    <tr>\n",
       "      <th>192208</th>\n",
       "      <td>Marcelo Monteiro de Melo</td>\n",
       "      <td>6</td>\n",
       "    </tr>\n",
       "  </tbody>\n",
       "</table>\n",
       "<p>16203 rows × 2 columns</p>\n",
       "</div>"
      ],
      "text/plain": [
       "                        Username  Rating\n",
       "304808               Vivino User    2395\n",
       "209544                   Michael     142\n",
       "70013                      David     131\n",
       "316857               vivino user     127\n",
       "25899              Antonio Rollo     123\n",
       "...                          ...     ...\n",
       "183021               Luca Facchi       6\n",
       "90467         Erik the Oenophile       6\n",
       "293948                      Todd       6\n",
       "261857               Rui Almeida       6\n",
       "192208  Marcelo Monteiro de Melo       6\n",
       "\n",
       "[16203 rows x 2 columns]"
      ]
     },
     "execution_count": 16,
     "metadata": {},
     "output_type": "execute_result"
    }
   ],
   "source": [
    "user_rating_count_df = df.filter([\"Username\", \"Rating\"], axis=1).groupby(\"Username\").count().reset_index()\n",
    "user_rating_count_df = user_rating_count_df.sort_values(\"Rating\", ascending=False)\n",
    "user_rating_count_df[user_rating_count_df[\"Rating\"] > 5]"
   ]
  },
  {
   "cell_type": "code",
   "execution_count": null,
   "metadata": {},
   "outputs": [],
   "source": []
  }
 ],
 "metadata": {
  "kernelspec": {
   "display_name": "Python 3 (ipykernel)",
   "language": "python",
   "name": "python3"
  },
  "language_info": {
   "codemirror_mode": {
    "name": "ipython",
    "version": 3
   },
   "file_extension": ".py",
   "mimetype": "text/x-python",
   "name": "python",
   "nbconvert_exporter": "python",
   "pygments_lexer": "ipython3",
   "version": "3.7.13"
  }
 },
 "nbformat": 4,
 "nbformat_minor": 4
}
