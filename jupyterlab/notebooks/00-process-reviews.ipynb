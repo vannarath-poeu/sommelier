{
 "cells": [
  {
   "cell_type": "markdown",
   "id": "e3d62402-37e4-40c5-adb8-512dda89eb5d",
   "metadata": {},
   "source": [
    "# Cleaning Review data\n",
    "\n",
    "This notebook processes review text to prepare text modality"
   ]
  },
  {
   "cell_type": "code",
   "execution_count": 74,
   "id": "0b255494-5928-4824-aec8-3e6df1a10773",
   "metadata": {},
   "outputs": [],
   "source": [
    "import pandas as pd\n",
    "import re"
   ]
  },
  {
   "cell_type": "code",
   "execution_count": 75,
   "id": "f58d3d4e-c0fb-4706-9e95-592597ab95e9",
   "metadata": {},
   "outputs": [],
   "source": [
    "REVIEW_FILE_PATH = \"../../data/review_item.csv\"\n",
    "TRAINING_FILE_PATH = \"../../data/train_ratings_seen.csv\"\n",
    "\n",
    "OUTPUT_FILE_PATH = \"../../data/text-modality.txt\""
   ]
  },
  {
   "cell_type": "code",
   "execution_count": 76,
   "id": "8997b782-d3c5-42b1-b75f-d3b61a166809",
   "metadata": {},
   "outputs": [
    {
     "data": {
      "text/html": [
       "<div>\n",
       "<style scoped>\n",
       "    .dataframe tbody tr th:only-of-type {\n",
       "        vertical-align: middle;\n",
       "    }\n",
       "\n",
       "    .dataframe tbody tr th {\n",
       "        vertical-align: top;\n",
       "    }\n",
       "\n",
       "    .dataframe thead th {\n",
       "        text-align: right;\n",
       "    }\n",
       "</style>\n",
       "<table border=\"1\" class=\"dataframe\">\n",
       "  <thead>\n",
       "    <tr style=\"text-align: right;\">\n",
       "      <th></th>\n",
       "      <th>review_text</th>\n",
       "      <th>item_id</th>\n",
       "    </tr>\n",
       "  </thead>\n",
       "  <tbody>\n",
       "    <tr>\n",
       "      <th>0</th>\n",
       "      <td>NaN</td>\n",
       "      <td>4026015</td>\n",
       "    </tr>\n",
       "    <tr>\n",
       "      <th>1</th>\n",
       "      <td>NaN</td>\n",
       "      <td>2057563</td>\n",
       "    </tr>\n",
       "    <tr>\n",
       "      <th>2</th>\n",
       "      <td>NaN</td>\n",
       "      <td>1374478</td>\n",
       "    </tr>\n",
       "    <tr>\n",
       "      <th>3</th>\n",
       "      <td>\\n\"Smoky Tobacco \\n\"\\n</td>\n",
       "      <td>1135067</td>\n",
       "    </tr>\n",
       "    <tr>\n",
       "      <th>4</th>\n",
       "      <td>\\n\"Easy to drink Amarone.\\nNot really bold for...</td>\n",
       "      <td>7103</td>\n",
       "    </tr>\n",
       "  </tbody>\n",
       "</table>\n",
       "</div>"
      ],
      "text/plain": [
       "                                         review_text  item_id\n",
       "0                                                NaN  4026015\n",
       "1                                                NaN  2057563\n",
       "2                                                NaN  1374478\n",
       "3                             \\n\"Smoky Tobacco \\n\"\\n  1135067\n",
       "4  \\n\"Easy to drink Amarone.\\nNot really bold for...     7103"
      ]
     },
     "execution_count": 76,
     "metadata": {},
     "output_type": "execute_result"
    }
   ],
   "source": [
    "review_df = pd.read_csv(REVIEW_FILE_PATH)\n",
    "\n",
    "review_df.head()"
   ]
  },
  {
   "cell_type": "code",
   "execution_count": 77,
   "id": "068cb6df-79d0-4ed7-98c8-8d9444ff77b6",
   "metadata": {},
   "outputs": [
    {
     "name": "stderr",
     "output_type": "stream",
     "text": [
      "/usr/local/lib/python3.7/site-packages/ipykernel_launcher.py:8: SettingWithCopyWarning: \n",
      "A value is trying to be set on a copy of a slice from a DataFrame.\n",
      "Try using .loc[row_indexer,col_indexer] = value instead\n",
      "\n",
      "See the caveats in the documentation: https://pandas.pydata.org/pandas-docs/stable/user_guide/indexing.html#returning-a-view-versus-a-copy\n",
      "  \n"
     ]
    }
   ],
   "source": [
    "def process_text(text: str):\n",
    "    processed = text.strip()\n",
    "    processed = re.sub('[\"]', '', processed)\n",
    "    processed = re.sub('[\\s]', ' ', processed)\n",
    "    return processed.lower()\n",
    "\n",
    "processed_df = review_df.dropna()\n",
    "processed_df[\"processed_text\"] = processed_df[\"review_text\"].apply(lambda x: process_text(x))\n",
    "processed_df = processed_df[processed_df[\"processed_text\"] != \"\"]\n",
    "processed_df = processed_df[~processed_df[\"processed_text\"].str.contains(\"^[^A-Za-z0-9\\s,.?!@#$%^&*]+$\", na=False)]\n",
    "processed_df = processed_df[[\"processed_text\", \"item_id\"]]"
   ]
  },
  {
   "cell_type": "code",
   "execution_count": 78,
   "id": "b8efcef0-26d2-40e0-8d7d-78f3421b222c",
   "metadata": {},
   "outputs": [
    {
     "name": "stdout",
     "output_type": "stream",
     "text": [
      "Before processing:  169342\n",
      "After processing:  72454\n"
     ]
    }
   ],
   "source": [
    "print(\"Before processing: \", len(review_df))\n",
    "print(\"After processing: \", len(processed_df))"
   ]
  },
  {
   "cell_type": "code",
   "execution_count": 79,
   "id": "3a3d9b9a-b955-48c8-8ba7-8f12b8270b43",
   "metadata": {},
   "outputs": [
    {
     "data": {
      "text/html": [
       "<div>\n",
       "<style scoped>\n",
       "    .dataframe tbody tr th:only-of-type {\n",
       "        vertical-align: middle;\n",
       "    }\n",
       "\n",
       "    .dataframe tbody tr th {\n",
       "        vertical-align: top;\n",
       "    }\n",
       "\n",
       "    .dataframe thead th {\n",
       "        text-align: right;\n",
       "    }\n",
       "</style>\n",
       "<table border=\"1\" class=\"dataframe\">\n",
       "  <thead>\n",
       "    <tr style=\"text-align: right;\">\n",
       "      <th></th>\n",
       "      <th>processed_text</th>\n",
       "      <th>item_id</th>\n",
       "    </tr>\n",
       "  </thead>\n",
       "  <tbody>\n",
       "    <tr>\n",
       "      <th>3</th>\n",
       "      <td>smoky tobacco</td>\n",
       "      <td>1135067</td>\n",
       "    </tr>\n",
       "    <tr>\n",
       "      <th>4</th>\n",
       "      <td>easy to drink amarone. not really bold for ama...</td>\n",
       "      <td>7103</td>\n",
       "    </tr>\n",
       "    <tr>\n",
       "      <th>6</th>\n",
       "      <td>chocolate. tobacco. cherry.</td>\n",
       "      <td>5927106</td>\n",
       "    </tr>\n",
       "    <tr>\n",
       "      <th>8</th>\n",
       "      <td>prune...</td>\n",
       "      <td>18739</td>\n",
       "    </tr>\n",
       "    <tr>\n",
       "      <th>11</th>\n",
       "      <td>light simple amarone.</td>\n",
       "      <td>77149</td>\n",
       "    </tr>\n",
       "    <tr>\n",
       "      <th>...</th>\n",
       "      <td>...</td>\n",
       "      <td>...</td>\n",
       "    </tr>\n",
       "    <tr>\n",
       "      <th>169317</th>\n",
       "      <td>not bad at all</td>\n",
       "      <td>6920887</td>\n",
       "    </tr>\n",
       "    <tr>\n",
       "      <th>169318</th>\n",
       "      <td>good</td>\n",
       "      <td>1456365</td>\n",
       "    </tr>\n",
       "    <tr>\n",
       "      <th>169319</th>\n",
       "      <td>ok</td>\n",
       "      <td>1910521</td>\n",
       "    </tr>\n",
       "    <tr>\n",
       "      <th>169320</th>\n",
       "      <td>good</td>\n",
       "      <td>1136728</td>\n",
       "    </tr>\n",
       "    <tr>\n",
       "      <th>169321</th>\n",
       "      <td>very nice...</td>\n",
       "      <td>1189951</td>\n",
       "    </tr>\n",
       "  </tbody>\n",
       "</table>\n",
       "<p>72454 rows × 2 columns</p>\n",
       "</div>"
      ],
      "text/plain": [
       "                                           processed_text  item_id\n",
       "3                                         smoky tobacco    1135067\n",
       "4       easy to drink amarone. not really bold for ama...     7103\n",
       "6                             chocolate. tobacco. cherry.  5927106\n",
       "8                                                prune...    18739\n",
       "11                                 light simple amarone.     77149\n",
       "...                                                   ...      ...\n",
       "169317                                     not bad at all  6920887\n",
       "169318                                               good  1456365\n",
       "169319                                                 ok  1910521\n",
       "169320                                               good  1136728\n",
       "169321                                       very nice...  1189951\n",
       "\n",
       "[72454 rows x 2 columns]"
      ]
     },
     "execution_count": 79,
     "metadata": {},
     "output_type": "execute_result"
    }
   ],
   "source": [
    "processed_df"
   ]
  },
  {
   "cell_type": "code",
   "execution_count": 80,
   "id": "fd7f1f2a-5977-4749-a78d-26d849d644b4",
   "metadata": {},
   "outputs": [],
   "source": [
    "training_df = pd.read_csv(TRAINING_FILE_PATH)"
   ]
  },
  {
   "cell_type": "code",
   "execution_count": 81,
   "id": "0c03f106-4160-4073-8df0-689419510ec3",
   "metadata": {},
   "outputs": [],
   "source": [
    "dic = {}\n",
    "\n",
    "for _, r in training_df.iterrows():\n",
    "    item_id = r[\"item_id\"]\n",
    "    dic[item_id] = \"this is wine.\"\n",
    "\n",
    "for _, r in processed_df.iterrows():\n",
    "    item_id = r[\"item_id\"]\n",
    "    # Skip non-training items\n",
    "    if item_id not in dic:\n",
    "        continue\n",
    "    dic[item_id] = dic[item_id] + \" \" + r[\"processed_text\"]"
   ]
  },
  {
   "cell_type": "code",
   "execution_count": 82,
   "id": "767326b6-a8f4-4e33-a40c-1cf222659582",
   "metadata": {},
   "outputs": [],
   "source": [
    "with open(OUTPUT_FILE_PATH, \"w\") as f:\n",
    "    for item_id, review in dic.items():\n",
    "        f.write(f\"{review.strip()}::{int(item_id)}\\n\")"
   ]
  },
  {
   "cell_type": "code",
   "execution_count": 83,
   "id": "ce2bad6a-7e8b-4309-8bf5-4aa38d38299b",
   "metadata": {},
   "outputs": [
    {
     "name": "stdout",
     "output_type": "stream",
     "text": [
      "Sanity check...\n",
      "Number of unique items:  39520\n",
      "Number of item reviews:  39520\n"
     ]
    }
   ],
   "source": [
    "print(\"Sanity check...\")\n",
    "print(\"Number of unique items: \", len(training_df[\"item_id\"].unique()))\n",
    "print(\"Number of item reviews: \", len(dic))"
   ]
  },
  {
   "cell_type": "code",
   "execution_count": null,
   "id": "38c1b6fe-93f3-4771-9585-dcf491500a09",
   "metadata": {},
   "outputs": [],
   "source": []
  }
 ],
 "metadata": {
  "kernelspec": {
   "display_name": "Python 3 (ipykernel)",
   "language": "python",
   "name": "python3"
  },
  "language_info": {
   "codemirror_mode": {
    "name": "ipython",
    "version": 3
   },
   "file_extension": ".py",
   "mimetype": "text/x-python",
   "name": "python",
   "nbconvert_exporter": "python",
   "pygments_lexer": "ipython3",
   "version": "3.7.13"
  }
 },
 "nbformat": 4,
 "nbformat_minor": 5
}
