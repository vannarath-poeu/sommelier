{
 "cells": [
  {
   "cell_type": "markdown",
   "metadata": {},
   "source": [
    "# Version updates"
   ]
  },
  {
   "cell_type": "code",
   "execution_count": 1,
   "metadata": {},
   "outputs": [],
   "source": [
    "__version__ = 'v0.0.1'"
   ]
  },
  {
   "cell_type": "markdown",
   "metadata": {},
   "source": [
    "1. Initial experiments"
   ]
  },
  {
   "cell_type": "markdown",
   "metadata": {},
   "source": [
    "# Main code"
   ]
  },
  {
   "cell_type": "markdown",
   "metadata": {
    "colab_type": "text",
    "id": "MqktDa7H2hKz",
    "tags": []
   },
   "source": [
    "## Setup"
   ]
  },
  {
   "cell_type": "markdown",
   "metadata": {},
   "source": [
    "### Install other components"
   ]
  },
  {
   "cell_type": "markdown",
   "metadata": {
    "ExecuteTime": {
     "end_time": "2022-05-03T07:56:28.218238Z",
     "start_time": "2022-05-03T07:56:28.218233Z"
    },
    "colab": {},
    "colab_type": "code",
    "id": "41oWCMUG2eC_"
   },
   "source": [
    "!pip install --quiet cornac==1.5.2 adjustText"
   ]
  },
  {
   "cell_type": "markdown",
   "metadata": {
    "tags": []
   },
   "source": [
    "### Import Libraries"
   ]
  },
  {
   "cell_type": "code",
   "execution_count": 20,
   "metadata": {
    "ExecuteTime": {
     "end_time": "2022-05-12T13:11:25.977391Z",
     "start_time": "2022-05-12T13:11:25.154763Z"
    },
    "colab": {
     "base_uri": "https://localhost:8080/",
     "height": 68
    },
    "colab_type": "code",
    "id": "YqKrDcGH2k7E",
    "outputId": "7594ca3b-a5ee-4f36-d2ec-b5bd6fb63cc1"
   },
   "outputs": [
    {
     "name": "stdout",
     "output_type": "stream",
     "text": [
      "System version: 3.7.13 (default, May 11 2022, 08:49:57) \n",
      "[GCC 10.2.1 20210110]\n",
      "Cornac version: 1.14.2\n"
     ]
    }
   ],
   "source": [
    "import os\n",
    "import sys\n",
    "import itertools\n",
    "\n",
    "import datetime\n",
    "import scipy.sparse as sp\n",
    "import numpy as np\n",
    "import pandas as pd\n",
    "#import seaborn as sns\n",
    "import matplotlib.pyplot as plt\n",
    "import zipfile\n",
    "from adjustText import adjust_text\n",
    "from collections import defaultdict\n",
    "from time import sleep\n",
    "from tqdm.notebook import tqdm\n",
    "\n",
    "%matplotlib inline\n",
    "\n",
    "import cornac\n",
    "from cornac.utils import cache\n",
    "from cornac.datasets import movielens\n",
    "from cornac.eval_methods import RatioSplit, CrossValidation\n",
    "from cornac.models import MF, NMF, WMF, BPR, BaselineOnly, NeuMF, CDL\n",
    "from cornac.hyperopt import Discrete, Continuous\n",
    "from cornac.hyperopt import GridSearch, RandomSearch\n",
    "\n",
    "print(f\"System version: {sys.version}\")\n",
    "print(f\"Cornac version: {cornac.__version__}\")\n",
    "\n",
    "VERBOSE = True"
   ]
  },
  {
   "cell_type": "markdown",
   "metadata": {},
   "source": [
    "### Use of SEED\n",
    "Determine whether we want to use a seed for repeatability.  The drawback is that training will take longer because of single-thread.  \n",
    "\n",
    "This can be set to False first in the initial experimentation, and locked for consistency when needed later"
   ]
  },
  {
   "cell_type": "code",
   "execution_count": 2,
   "metadata": {},
   "outputs": [],
   "source": [
    "USE_SEED = True  # True = repeatable, no parallelisation\n",
    "\n",
    "if USE_SEED:\n",
    "    SEED = 42\n",
    "else:\n",
    "    SEED = None"
   ]
  },
  {
   "cell_type": "markdown",
   "metadata": {
    "colab_type": "text",
    "id": "4fLSfYBAsN3h"
   },
   "source": [
    "### Load data"
   ]
  },
  {
   "cell_type": "code",
   "execution_count": 3,
   "metadata": {
    "ExecuteTime": {
     "end_time": "2022-05-12T13:11:33.302194Z",
     "start_time": "2022-05-12T13:11:29.698759Z"
    }
   },
   "outputs": [],
   "source": [
    "df = pd.read_csv('../../data/train_ratings_seen.csv')"
   ]
  },
  {
   "cell_type": "code",
   "execution_count": 4,
   "metadata": {},
   "outputs": [
    {
     "data": {
      "text/html": [
       "<div>\n",
       "<style scoped>\n",
       "    .dataframe tbody tr th:only-of-type {\n",
       "        vertical-align: middle;\n",
       "    }\n",
       "\n",
       "    .dataframe tbody tr th {\n",
       "        vertical-align: top;\n",
       "    }\n",
       "\n",
       "    .dataframe thead th {\n",
       "        text-align: right;\n",
       "    }\n",
       "</style>\n",
       "<table border=\"1\" class=\"dataframe\">\n",
       "  <thead>\n",
       "    <tr style=\"text-align: right;\">\n",
       "      <th></th>\n",
       "      <th>user_id</th>\n",
       "      <th>item_id</th>\n",
       "      <th>rating</th>\n",
       "    </tr>\n",
       "  </thead>\n",
       "  <tbody>\n",
       "    <tr>\n",
       "      <th>0</th>\n",
       "      <td>34297304</td>\n",
       "      <td>1260259</td>\n",
       "      <td>4.0</td>\n",
       "    </tr>\n",
       "    <tr>\n",
       "      <th>1</th>\n",
       "      <td>34297304</td>\n",
       "      <td>1137544</td>\n",
       "      <td>3.0</td>\n",
       "    </tr>\n",
       "    <tr>\n",
       "      <th>2</th>\n",
       "      <td>34297304</td>\n",
       "      <td>1372673</td>\n",
       "      <td>1.0</td>\n",
       "    </tr>\n",
       "    <tr>\n",
       "      <th>3</th>\n",
       "      <td>34297304</td>\n",
       "      <td>2511537</td>\n",
       "      <td>3.0</td>\n",
       "    </tr>\n",
       "    <tr>\n",
       "      <th>4</th>\n",
       "      <td>34297304</td>\n",
       "      <td>92537</td>\n",
       "      <td>4.0</td>\n",
       "    </tr>\n",
       "  </tbody>\n",
       "</table>\n",
       "</div>"
      ],
      "text/plain": [
       "    user_id  item_id  rating\n",
       "0  34297304  1260259     4.0\n",
       "1  34297304  1137544     3.0\n",
       "2  34297304  1372673     1.0\n",
       "3  34297304  2511537     3.0\n",
       "4  34297304    92537     4.0"
      ]
     },
     "execution_count": 4,
     "metadata": {},
     "output_type": "execute_result"
    }
   ],
   "source": [
    "df.head()"
   ]
  },
  {
   "cell_type": "code",
   "execution_count": 5,
   "metadata": {},
   "outputs": [
    {
     "data": {
      "text/plain": [
       "(119922, 3)"
      ]
     },
     "execution_count": 5,
     "metadata": {},
     "output_type": "execute_result"
    }
   ],
   "source": [
    "df.shape"
   ]
  },
  {
   "cell_type": "code",
   "execution_count": 6,
   "metadata": {
    "ExecuteTime": {
     "end_time": "2022-05-12T13:11:33.331101Z",
     "start_time": "2022-05-12T13:11:33.325625Z"
    }
   },
   "outputs": [],
   "source": [
    "dataset = cornac.data.Dataset.from_uir(df.itertuples(index=False))"
   ]
  },
  {
   "cell_type": "markdown",
   "metadata": {},
   "source": [
    "### Display some facts of what we have"
   ]
  },
  {
   "cell_type": "code",
   "execution_count": 7,
   "metadata": {},
   "outputs": [
    {
     "name": "stdout",
     "output_type": "stream",
     "text": [
      "Number of users: 5,066\n",
      "Number of items: 39,520\n",
      "Shape of full matrix: (5066, 39520)\n",
      "Sparsity of matrix: 99.940%\n",
      "\n",
      "CPU times: user 382 ms, sys: 229 µs, total: 382 ms\n",
      "Wall time: 390 ms\n"
     ]
    }
   ],
   "source": [
    "%%time\n",
    "\n",
    "# Display some parameters\n",
    "n_users = df['user_id'].nunique()\n",
    "n_items = df['item_id'].nunique()\n",
    "\n",
    "print(f'Number of users: {n_users:,}')\n",
    "print(f'Number of items: {n_items:,}')\n",
    "print(f'Shape of full matrix: {cornac.data.Dataset.from_uir(df.itertuples(index=False)).matrix.shape}')\n",
    "\n",
    "# Sparsity\n",
    "total_possible_rankings = n_users * n_items\n",
    "sparsity = 1 - df.shape[0]/total_possible_rankings\n",
    "print(f'Sparsity of matrix: {100*sparsity:0.3f}%')\n",
    "print()"
   ]
  },
  {
   "cell_type": "markdown",
   "metadata": {},
   "source": [
    "## Run experiments on some of the potential candidate models"
   ]
  },
  {
   "cell_type": "code",
   "execution_count": 10,
   "metadata": {
    "ExecuteTime": {
     "end_time": "2022-05-12T13:22:21.497168Z",
     "start_time": "2022-05-12T13:22:20.366799Z"
    },
    "colab": {
     "base_uri": "https://localhost:8080/",
     "height": 136
    },
    "colab_type": "code",
    "id": "4xU11wUMso7L",
    "outputId": "289ca379-8dbc-493a-e902-433d03c0fc10"
   },
   "outputs": [
    {
     "name": "stdout",
     "output_type": "stream",
     "text": [
      "CPU times: user 365 ms, sys: 6.95 ms, total: 372 ms\n",
      "Wall time: 371 ms\n"
     ]
    }
   ],
   "source": [
    "%%time\n",
    "K = 50\n",
    "n_iterations = 1000\n",
    "\n",
    "# Baseline models\n",
    "baseline = BaselineOnly()\n",
    "\n",
    "svd = cornac.models.SVD(\n",
    "    k=K,\n",
    "    max_iter = n_iterations,\n",
    "    verbose=VERBOSE,\n",
    "    seed=SEED,\n",
    "    name=f'SVD(K={K})'\n",
    ")\n",
    "\n",
    "mostpop = cornac.models.MostPop(\n",
    "    name = f'MostPop'\n",
    ")\n",
    "\n",
    "mf = cornac.models.MF(\n",
    "    k=K, \n",
    "    max_iter=n_iterations,\n",
    "    verbose=VERBOSE,\n",
    "    seed=SEED,\n",
    "    name=f'MF(K={K})'\n",
    ")\n",
    "\n",
    "# Collaborative\n",
    "bpr = cornac.models.BPR(\n",
    "    k=K, \n",
    "    max_iter=n_iterations,\n",
    "    verbose=VERBOSE, \n",
    "    seed=SEED, \n",
    "    name=f'BPR(K={K})'\n",
    ")\n",
    "\n",
    "wmf = cornac.models.WMF(\n",
    "    k=K, \n",
    "    max_iter=n_iterations,\n",
    "    verbose=VERBOSE, \n",
    "    seed=SEED, \n",
    "    name=f'WMF(K={K})'\n",
    ")\n",
    "\n",
    "# With Modality\n",
    "# TODO\n",
    "\n",
    "rs = RatioSplit(list(df.itertuples(index=False, name=None)), test_size=0.2, seed=SEED, verbose=VERBOSE)\n",
    "\n",
    "# Define models to try\n",
    "models = [\n",
    "    baseline,\n",
    "    svd,\n",
    "    mostpop,\n",
    "    mf,\n",
    "    bpr,\n",
    "    wmf,\n",
    "]\n",
    "\n",
    "# Define metrics\n",
    "metrics = [\n",
    "    cornac.metrics.RMSE(),\n",
    "    cornac.metrics.FMeasure(k=20),\n",
    "    cornac.metrics.AUC(),\n",
    "    cornac.metrics.MRR(),\n",
    "    cornac.metrics.NCRR(k=20),\n",
    "    cornac.metrics.NDCG(k=20),\n",
    "    cornac.metrics.Recall(k=20)\n",
    "]"
   ]
  },
  {
   "cell_type": "code",
   "execution_count": 11,
   "metadata": {},
   "outputs": [
    {
     "name": "stdout",
     "output_type": "stream",
     "text": [
      "\n",
      "TEST:\n",
      "...\n",
      "             |   RMSE |    AUC |  F1@20 |    MRR | NCRR@20 | NDCG@20 | Recall@20 | Train (s) | Test (s)\n",
      "------------ + ------ + ------ + ------ + ------ + ------- + ------- + --------- + --------- + --------\n",
      "BaselineOnly | 0.5170 | 0.5750 | 0.0024 | 0.0078 |  0.0021 |  0.0034 |    0.0066 |    0.0309 |  16.4576\n",
      "SVD(K=50)    | 0.5489 | 0.5293 | 0.0001 | 0.0005 |  0.0000 |  0.0001 |    0.0001 |    4.9027 |  18.9999\n",
      "MostPop      | 1.5064 | 0.7736 | 0.0103 | 0.0318 |  0.0122 |  0.0178 |    0.0319 |    0.0038 |   8.5064\n",
      "MF(K=50)     | 0.5489 | 0.5293 | 0.0001 | 0.0005 |  0.0000 |  0.0001 |    0.0001 |    4.9219 |  18.8774\n",
      "BPR(K=50)    | 2.5031 | 0.8304 | 0.0103 | 0.0319 |  0.0123 |  0.0179 |    0.0322 |   16.5034 |  18.9165\n",
      "WMF(K=50)    | 2.8696 | 0.6625 | 0.0069 | 0.0211 |  0.0075 |  0.0115 |    0.0213 | 2496.0660 |  23.7914\n",
      "\n",
      "CPU times: user 7h 56min 22s, sys: 30min 27s, total: 8h 26min 50s\n",
      "Wall time: 43min 48s\n"
     ]
    }
   ],
   "source": [
    "%%time\n",
    "model_experiment = cornac.Experiment(\n",
    "    eval_method=rs, \n",
    "    models=models, \n",
    "    metrics=metrics,\n",
    "    user_based=True,\n",
    "    save_dir='cornac_experiments',\n",
    ")\n",
    "\n",
    "model_experiment.run()"
   ]
  },
  {
   "cell_type": "code",
   "execution_count": 12,
   "metadata": {},
   "outputs": [],
   "source": [
    "# Vary K"
   ]
  },
  {
   "cell_type": "code",
   "execution_count": 21,
   "metadata": {},
   "outputs": [
    {
     "name": "stdout",
     "output_type": "stream",
     "text": [
      "rating_threshold = 1.0\n",
      "exclude_unknowns = True\n",
      "---\n",
      "Training data:\n",
      "Number of users = 5066\n",
      "Number of items = 34404\n",
      "Number of ratings = 95937\n",
      "Max rating = 5.0\n",
      "Min rating = 1.0\n",
      "Global mean = 3.9\n",
      "---\n",
      "Test data:\n",
      "Number of users = 4462\n",
      "Number of items = 8487\n",
      "Number of ratings = 18588\n",
      "Number of unknown users = 0\n",
      "Number of unknown items = 0\n",
      "---\n",
      "Total users = 5066\n",
      "Total items = 34404\n",
      "CPU times: user 367 ms, sys: 3.96 ms, total: 371 ms\n",
      "Wall time: 369 ms\n"
     ]
    }
   ],
   "source": [
    "%%time\n",
    "n_iterations = 1000\n",
    "\n",
    "rs = RatioSplit(list(df.itertuples(index=False, name=None)), test_size=0.2, seed=SEED, verbose=VERBOSE)\n",
    "\n",
    "models = []\n",
    "for K in range(10, 310, 10):\n",
    "    curr_wmf = cornac.models.WMF(\n",
    "        k=K, \n",
    "        max_iter=n_iterations,\n",
    "        verbose=VERBOSE, \n",
    "        seed=SEED, \n",
    "        name=f'WMF(K={K})'\n",
    "    )\n",
    "    models.append(curr_wmf)\n",
    "    \n",
    "# Define metrics\n",
    "metrics = [\n",
    "    cornac.metrics.RMSE(),\n",
    "    cornac.metrics.FMeasure(k=20),\n",
    "    cornac.metrics.AUC(),\n",
    "    cornac.metrics.MRR(),\n",
    "    cornac.metrics.NCRR(k=20),\n",
    "    cornac.metrics.NDCG(k=20),\n",
    "    cornac.metrics.Recall(k=20)\n",
    "]"
   ]
  },
  {
   "cell_type": "code",
   "execution_count": 22,
   "metadata": {},
   "outputs": [
    {
     "name": "stdout",
     "output_type": "stream",
     "text": [
      "\n",
      "[WMF(K=10)] Training started!\n"
     ]
    },
    {
     "name": "stderr",
     "output_type": "stream",
     "text": [
      "100%|██████████| 1000/1000 [33:13<00:00,  1.99s/it, loss=41] \n"
     ]
    },
    {
     "name": "stdout",
     "output_type": "stream",
     "text": [
      "Learning completed!\n",
      "\n",
      "[WMF(K=10)] Evaluation started!\n"
     ]
    },
    {
     "name": "stderr",
     "output_type": "stream",
     "text": [
      "Rating: 100%|██████████| 18588/18588 [00:00<00:00, 59692.60it/s]\n",
      "Ranking: 100%|██████████| 4462/4462 [00:22<00:00, 198.09it/s]\n"
     ]
    },
    {
     "name": "stdout",
     "output_type": "stream",
     "text": [
      "WMF(K=10) model is saved to cornac_experiments/WMF(K=10)/2022-06-12_04-11-11-229174.pkl\n",
      "\n",
      "[WMF(K=20)] Training started!\n"
     ]
    },
    {
     "name": "stderr",
     "output_type": "stream",
     "text": [
      "100%|██████████| 1000/1000 [34:59<00:00,  2.10s/it, loss=38.3]\n"
     ]
    },
    {
     "name": "stdout",
     "output_type": "stream",
     "text": [
      "Learning completed!\n",
      "\n",
      "[WMF(K=20)] Evaluation started!\n"
     ]
    },
    {
     "name": "stderr",
     "output_type": "stream",
     "text": [
      "Rating: 100%|██████████| 18588/18588 [00:00<00:00, 50486.37it/s]\n",
      "Ranking: 100%|██████████| 4462/4462 [00:22<00:00, 196.77it/s]\n"
     ]
    },
    {
     "name": "stdout",
     "output_type": "stream",
     "text": [
      "WMF(K=20) model is saved to cornac_experiments/WMF(K=20)/2022-06-12_04-46-34-871312.pkl\n",
      "\n",
      "[WMF(K=30)] Training started!\n"
     ]
    },
    {
     "name": "stderr",
     "output_type": "stream",
     "text": [
      "100%|██████████| 1000/1000 [37:31<00:00,  2.25s/it, loss=35.3]\n"
     ]
    },
    {
     "name": "stdout",
     "output_type": "stream",
     "text": [
      "Learning completed!\n",
      "\n",
      "[WMF(K=30)] Evaluation started!\n"
     ]
    },
    {
     "name": "stderr",
     "output_type": "stream",
     "text": [
      "Rating: 100%|██████████| 18588/18588 [00:00<00:00, 58591.15it/s]\n",
      "Ranking: 100%|██████████| 4462/4462 [00:22<00:00, 196.17it/s]\n"
     ]
    },
    {
     "name": "stdout",
     "output_type": "stream",
     "text": [
      "WMF(K=30) model is saved to cornac_experiments/WMF(K=30)/2022-06-12_05-24-30-651148.pkl\n",
      "\n",
      "[WMF(K=40)] Training started!\n"
     ]
    },
    {
     "name": "stderr",
     "output_type": "stream",
     "text": [
      "100%|██████████| 1000/1000 [39:26<00:00,  2.37s/it, loss=31.5]\n"
     ]
    },
    {
     "name": "stdout",
     "output_type": "stream",
     "text": [
      "Learning completed!\n",
      "\n",
      "[WMF(K=40)] Evaluation started!\n"
     ]
    },
    {
     "name": "stderr",
     "output_type": "stream",
     "text": [
      "Rating: 100%|██████████| 18588/18588 [00:00<00:00, 60323.83it/s]\n",
      "Ranking: 100%|██████████| 4462/4462 [00:22<00:00, 196.09it/s]\n"
     ]
    },
    {
     "name": "stdout",
     "output_type": "stream",
     "text": [
      "WMF(K=40) model is saved to cornac_experiments/WMF(K=40)/2022-06-12_06-04-21-069066.pkl\n",
      "\n",
      "[WMF(K=50)] Training started!\n"
     ]
    },
    {
     "name": "stderr",
     "output_type": "stream",
     "text": [
      "100%|██████████| 1000/1000 [42:04<00:00,  2.52s/it, loss=14.3]\n"
     ]
    },
    {
     "name": "stdout",
     "output_type": "stream",
     "text": [
      "Learning completed!\n",
      "\n",
      "[WMF(K=50)] Evaluation started!\n"
     ]
    },
    {
     "name": "stderr",
     "output_type": "stream",
     "text": [
      "Rating: 100%|██████████| 18588/18588 [00:00<00:00, 59697.90it/s]\n",
      "Ranking: 100%|██████████| 4462/4462 [00:22<00:00, 194.31it/s]\n"
     ]
    },
    {
     "name": "stdout",
     "output_type": "stream",
     "text": [
      "WMF(K=50) model is saved to cornac_experiments/WMF(K=50)/2022-06-12_06-46-49-153312.pkl\n",
      "\n",
      "[WMF(K=60)] Training started!\n"
     ]
    },
    {
     "name": "stderr",
     "output_type": "stream",
     "text": [
      "100%|██████████| 1000/1000 [45:20<00:00,  2.72s/it, loss=11] \n"
     ]
    },
    {
     "name": "stdout",
     "output_type": "stream",
     "text": [
      "Learning completed!\n",
      "\n",
      "[WMF(K=60)] Evaluation started!\n"
     ]
    },
    {
     "name": "stderr",
     "output_type": "stream",
     "text": [
      "Rating: 100%|██████████| 18588/18588 [00:00<00:00, 58736.19it/s]\n",
      "Ranking: 100%|██████████| 4462/4462 [00:23<00:00, 193.56it/s]\n"
     ]
    },
    {
     "name": "stdout",
     "output_type": "stream",
     "text": [
      "WMF(K=60) model is saved to cornac_experiments/WMF(K=60)/2022-06-12_07-32-33-352846.pkl\n",
      "\n",
      "[WMF(K=70)] Training started!\n"
     ]
    },
    {
     "name": "stderr",
     "output_type": "stream",
     "text": [
      "100%|██████████| 1000/1000 [47:43<00:00,  2.86s/it, loss=9.97]\n"
     ]
    },
    {
     "name": "stdout",
     "output_type": "stream",
     "text": [
      "Learning completed!\n",
      "\n",
      "[WMF(K=70)] Evaluation started!\n"
     ]
    },
    {
     "name": "stderr",
     "output_type": "stream",
     "text": [
      "Rating: 100%|██████████| 18588/18588 [00:00<00:00, 58642.75it/s]\n",
      "Ranking: 100%|██████████| 4462/4462 [00:22<00:00, 194.20it/s]\n"
     ]
    },
    {
     "name": "stdout",
     "output_type": "stream",
     "text": [
      "WMF(K=70) model is saved to cornac_experiments/WMF(K=70)/2022-06-12_08-20-40-639754.pkl\n",
      "\n",
      "[WMF(K=80)] Training started!\n"
     ]
    },
    {
     "name": "stderr",
     "output_type": "stream",
     "text": [
      "100%|██████████| 1000/1000 [49:03<00:00,  2.94s/it, loss=9.1]\n"
     ]
    },
    {
     "name": "stdout",
     "output_type": "stream",
     "text": [
      "Learning completed!\n",
      "\n",
      "[WMF(K=80)] Evaluation started!\n"
     ]
    },
    {
     "name": "stderr",
     "output_type": "stream",
     "text": [
      "Rating: 100%|██████████| 18588/18588 [00:00<00:00, 58514.50it/s]\n",
      "Ranking: 100%|██████████| 4462/4462 [00:22<00:00, 194.40it/s]\n"
     ]
    },
    {
     "name": "stdout",
     "output_type": "stream",
     "text": [
      "WMF(K=80) model is saved to cornac_experiments/WMF(K=80)/2022-06-12_09-10-08-648109.pkl\n",
      "\n",
      "[WMF(K=90)] Training started!\n"
     ]
    },
    {
     "name": "stderr",
     "output_type": "stream",
     "text": [
      "100%|██████████| 1000/1000 [52:08<00:00,  3.13s/it, loss=8.37]\n"
     ]
    },
    {
     "name": "stdout",
     "output_type": "stream",
     "text": [
      "Learning completed!\n",
      "\n",
      "[WMF(K=90)] Evaluation started!\n"
     ]
    },
    {
     "name": "stderr",
     "output_type": "stream",
     "text": [
      "Rating: 100%|██████████| 18588/18588 [00:00<00:00, 57627.33it/s]\n",
      "Ranking: 100%|██████████| 4462/4462 [00:23<00:00, 192.70it/s]\n"
     ]
    },
    {
     "name": "stdout",
     "output_type": "stream",
     "text": [
      "WMF(K=90) model is saved to cornac_experiments/WMF(K=90)/2022-06-12_10-02-41-711585.pkl\n",
      "\n",
      "[WMF(K=100)] Training started!\n"
     ]
    },
    {
     "name": "stderr",
     "output_type": "stream",
     "text": [
      "100%|██████████| 1000/1000 [55:19<00:00,  3.32s/it, loss=7.76]\n"
     ]
    },
    {
     "name": "stdout",
     "output_type": "stream",
     "text": [
      "Learning completed!\n",
      "\n",
      "[WMF(K=100)] Evaluation started!\n"
     ]
    },
    {
     "name": "stderr",
     "output_type": "stream",
     "text": [
      "Rating: 100%|██████████| 18588/18588 [00:00<00:00, 58799.14it/s]\n",
      "Ranking: 100%|██████████| 4462/4462 [00:23<00:00, 192.32it/s]\n"
     ]
    },
    {
     "name": "stdout",
     "output_type": "stream",
     "text": [
      "WMF(K=100) model is saved to cornac_experiments/WMF(K=100)/2022-06-12_10-58-26-030068.pkl\n",
      "\n",
      "[WMF(K=110)] Training started!\n"
     ]
    },
    {
     "name": "stderr",
     "output_type": "stream",
     "text": [
      "100%|██████████| 1000/1000 [57:08<00:00,  3.43s/it, loss=7.24]\n"
     ]
    },
    {
     "name": "stdout",
     "output_type": "stream",
     "text": [
      "Learning completed!\n",
      "\n",
      "[WMF(K=110)] Evaluation started!\n"
     ]
    },
    {
     "name": "stderr",
     "output_type": "stream",
     "text": [
      "Rating: 100%|██████████| 18588/18588 [00:00<00:00, 63365.98it/s]\n",
      "Ranking: 100%|██████████| 4462/4462 [00:23<00:00, 188.75it/s]\n"
     ]
    },
    {
     "name": "stdout",
     "output_type": "stream",
     "text": [
      "WMF(K=110) model is saved to cornac_experiments/WMF(K=110)/2022-06-12_11-55-59-532600.pkl\n",
      "\n",
      "[WMF(K=120)] Training started!\n"
     ]
    },
    {
     "name": "stderr",
     "output_type": "stream",
     "text": [
      "100%|██████████| 1000/1000 [1:00:07<00:00,  3.61s/it, loss=6.79]\n"
     ]
    },
    {
     "name": "stdout",
     "output_type": "stream",
     "text": [
      "Learning completed!\n",
      "\n",
      "[WMF(K=120)] Evaluation started!\n"
     ]
    },
    {
     "name": "stderr",
     "output_type": "stream",
     "text": [
      "Rating: 100%|██████████| 18588/18588 [00:00<00:00, 60524.07it/s]\n",
      "Ranking: 100%|██████████| 4462/4462 [00:23<00:00, 190.29it/s]\n"
     ]
    },
    {
     "name": "stdout",
     "output_type": "stream",
     "text": [
      "WMF(K=120) model is saved to cornac_experiments/WMF(K=120)/2022-06-12_12-56-31-830674.pkl\n",
      "\n",
      "[WMF(K=130)] Training started!\n"
     ]
    },
    {
     "name": "stderr",
     "output_type": "stream",
     "text": [
      "100%|██████████| 1000/1000 [1:03:19<00:00,  3.80s/it, loss=6.39]\n"
     ]
    },
    {
     "name": "stdout",
     "output_type": "stream",
     "text": [
      "Learning completed!\n",
      "\n",
      "[WMF(K=130)] Evaluation started!\n"
     ]
    },
    {
     "name": "stderr",
     "output_type": "stream",
     "text": [
      "Rating: 100%|██████████| 18588/18588 [00:00<00:00, 59140.94it/s]\n",
      "Ranking: 100%|██████████| 4462/4462 [00:23<00:00, 189.53it/s]\n"
     ]
    },
    {
     "name": "stdout",
     "output_type": "stream",
     "text": [
      "WMF(K=130) model is saved to cornac_experiments/WMF(K=130)/2022-06-12_14-00-16-318791.pkl\n",
      "\n",
      "[WMF(K=140)] Training started!\n"
     ]
    },
    {
     "name": "stderr",
     "output_type": "stream",
     "text": [
      "100%|██████████| 1000/1000 [1:05:58<00:00,  3.96s/it, loss=6.04]\n"
     ]
    },
    {
     "name": "stdout",
     "output_type": "stream",
     "text": [
      "Learning completed!\n",
      "\n",
      "[WMF(K=140)] Evaluation started!\n"
     ]
    },
    {
     "name": "stderr",
     "output_type": "stream",
     "text": [
      "Rating: 100%|██████████| 18588/18588 [00:00<00:00, 56748.06it/s]\n",
      "Ranking: 100%|██████████| 4462/4462 [00:23<00:00, 189.09it/s]\n"
     ]
    },
    {
     "name": "stdout",
     "output_type": "stream",
     "text": [
      "WMF(K=140) model is saved to cornac_experiments/WMF(K=140)/2022-06-12_15-06-39-300240.pkl\n",
      "\n",
      "[WMF(K=150)] Training started!\n"
     ]
    },
    {
     "name": "stderr",
     "output_type": "stream",
     "text": [
      "100%|██████████| 1000/1000 [1:08:22<00:00,  4.10s/it, loss=5.73]\n"
     ]
    },
    {
     "name": "stdout",
     "output_type": "stream",
     "text": [
      "Learning completed!\n",
      "\n",
      "[WMF(K=150)] Evaluation started!\n"
     ]
    },
    {
     "name": "stderr",
     "output_type": "stream",
     "text": [
      "Rating: 100%|██████████| 18588/18588 [00:00<00:00, 61715.75it/s]\n",
      "Ranking: 100%|██████████| 4462/4462 [00:23<00:00, 186.63it/s]\n"
     ]
    },
    {
     "name": "stdout",
     "output_type": "stream",
     "text": [
      "WMF(K=150) model is saved to cornac_experiments/WMF(K=150)/2022-06-12_16-15-26-606651.pkl\n",
      "\n",
      "[WMF(K=160)] Training started!\n"
     ]
    },
    {
     "name": "stderr",
     "output_type": "stream",
     "text": [
      "100%|██████████| 1000/1000 [1:11:22<00:00,  4.28s/it, loss=5.45]\n"
     ]
    },
    {
     "name": "stdout",
     "output_type": "stream",
     "text": [
      "Learning completed!\n",
      "\n",
      "[WMF(K=160)] Evaluation started!\n"
     ]
    },
    {
     "name": "stderr",
     "output_type": "stream",
     "text": [
      "Rating: 100%|██████████| 18588/18588 [00:00<00:00, 58106.82it/s]\n",
      "Ranking: 100%|██████████| 4462/4462 [00:23<00:00, 186.71it/s]\n"
     ]
    },
    {
     "name": "stdout",
     "output_type": "stream",
     "text": [
      "WMF(K=160) model is saved to cornac_experiments/WMF(K=160)/2022-06-12_17-27-14-313304.pkl\n",
      "\n",
      "[WMF(K=170)] Training started!\n"
     ]
    },
    {
     "name": "stderr",
     "output_type": "stream",
     "text": [
      "100%|██████████| 1000/1000 [1:14:50<00:00,  4.49s/it, loss=5.2]\n"
     ]
    },
    {
     "name": "stdout",
     "output_type": "stream",
     "text": [
      "Learning completed!\n",
      "\n",
      "[WMF(K=170)] Evaluation started!\n"
     ]
    },
    {
     "name": "stderr",
     "output_type": "stream",
     "text": [
      "Rating: 100%|██████████| 18588/18588 [00:00<00:00, 62270.05it/s]\n",
      "Ranking: 100%|██████████| 4462/4462 [00:24<00:00, 183.81it/s]\n"
     ]
    },
    {
     "name": "stdout",
     "output_type": "stream",
     "text": [
      "WMF(K=170) model is saved to cornac_experiments/WMF(K=170)/2022-06-12_18-42-30-029450.pkl\n",
      "\n",
      "[WMF(K=180)] Training started!\n"
     ]
    },
    {
     "name": "stderr",
     "output_type": "stream",
     "text": [
      "100%|██████████| 1000/1000 [1:16:21<00:00,  4.58s/it, loss=4.97]\n"
     ]
    },
    {
     "name": "stdout",
     "output_type": "stream",
     "text": [
      "Learning completed!\n",
      "\n",
      "[WMF(K=180)] Evaluation started!\n"
     ]
    },
    {
     "name": "stderr",
     "output_type": "stream",
     "text": [
      "Rating: 100%|██████████| 18588/18588 [00:00<00:00, 58712.44it/s]\n",
      "Ranking: 100%|██████████| 4462/4462 [00:24<00:00, 183.63it/s]\n"
     ]
    },
    {
     "name": "stdout",
     "output_type": "stream",
     "text": [
      "WMF(K=180) model is saved to cornac_experiments/WMF(K=180)/2022-06-12_19-59-17-259040.pkl\n",
      "\n",
      "[WMF(K=190)] Training started!\n"
     ]
    },
    {
     "name": "stderr",
     "output_type": "stream",
     "text": [
      "100%|██████████| 1000/1000 [1:17:45<00:00,  4.67s/it, loss=4.77]\n"
     ]
    },
    {
     "name": "stdout",
     "output_type": "stream",
     "text": [
      "Learning completed!\n",
      "\n",
      "[WMF(K=190)] Evaluation started!\n"
     ]
    },
    {
     "name": "stderr",
     "output_type": "stream",
     "text": [
      "Rating: 100%|██████████| 18588/18588 [00:00<00:00, 57926.92it/s]\n",
      "Ranking: 100%|██████████| 4462/4462 [00:24<00:00, 182.48it/s]\n"
     ]
    },
    {
     "name": "stdout",
     "output_type": "stream",
     "text": [
      "WMF(K=190) model is saved to cornac_experiments/WMF(K=190)/2022-06-12_21-17-28-187758.pkl\n",
      "\n",
      "[WMF(K=200)] Training started!\n"
     ]
    },
    {
     "name": "stderr",
     "output_type": "stream",
     "text": [
      "100%|██████████| 1000/1000 [1:20:36<00:00,  4.84s/it, loss=4.58]\n"
     ]
    },
    {
     "name": "stdout",
     "output_type": "stream",
     "text": [
      "Learning completed!\n",
      "\n",
      "[WMF(K=200)] Evaluation started!\n"
     ]
    },
    {
     "name": "stderr",
     "output_type": "stream",
     "text": [
      "Rating: 100%|██████████| 18588/18588 [00:00<00:00, 58590.53it/s]\n",
      "Ranking: 100%|██████████| 4462/4462 [00:24<00:00, 182.22it/s]\n"
     ]
    },
    {
     "name": "stdout",
     "output_type": "stream",
     "text": [
      "WMF(K=200) model is saved to cornac_experiments/WMF(K=200)/2022-06-12_22-38-30-662132.pkl\n",
      "\n",
      "[WMF(K=210)] Training started!\n"
     ]
    },
    {
     "name": "stderr",
     "output_type": "stream",
     "text": [
      "100%|██████████| 1000/1000 [1:23:00<00:00,  4.98s/it, loss=4.41]\n"
     ]
    },
    {
     "name": "stdout",
     "output_type": "stream",
     "text": [
      "Learning completed!\n",
      "\n",
      "[WMF(K=210)] Evaluation started!\n"
     ]
    },
    {
     "name": "stderr",
     "output_type": "stream",
     "text": [
      "Rating: 100%|██████████| 18588/18588 [00:00<00:00, 59390.93it/s]\n",
      "Ranking: 100%|██████████| 4462/4462 [00:24<00:00, 180.71it/s]\n"
     ]
    },
    {
     "name": "stdout",
     "output_type": "stream",
     "text": [
      "WMF(K=210) model is saved to cornac_experiments/WMF(K=210)/2022-06-13_00-01-57-410804.pkl\n",
      "\n",
      "[WMF(K=220)] Training started!\n"
     ]
    },
    {
     "name": "stderr",
     "output_type": "stream",
     "text": [
      "100%|██████████| 1000/1000 [1:27:01<00:00,  5.22s/it, loss=4.25]\n"
     ]
    },
    {
     "name": "stdout",
     "output_type": "stream",
     "text": [
      "Learning completed!\n",
      "\n",
      "[WMF(K=220)] Evaluation started!\n"
     ]
    },
    {
     "name": "stderr",
     "output_type": "stream",
     "text": [
      "Rating: 100%|██████████| 18588/18588 [00:00<00:00, 58654.18it/s]\n",
      "Ranking: 100%|██████████| 4462/4462 [00:24<00:00, 180.76it/s]\n"
     ]
    },
    {
     "name": "stdout",
     "output_type": "stream",
     "text": [
      "WMF(K=220) model is saved to cornac_experiments/WMF(K=220)/2022-06-13_01-29-25-384774.pkl\n",
      "\n",
      "[WMF(K=230)] Training started!\n"
     ]
    },
    {
     "name": "stderr",
     "output_type": "stream",
     "text": [
      "100%|██████████| 1000/1000 [1:30:27<00:00,  5.43s/it, loss=4.11]\n"
     ]
    },
    {
     "name": "stdout",
     "output_type": "stream",
     "text": [
      "Learning completed!\n",
      "\n",
      "[WMF(K=230)] Evaluation started!\n"
     ]
    },
    {
     "name": "stderr",
     "output_type": "stream",
     "text": [
      "Rating: 100%|██████████| 18588/18588 [00:00<00:00, 58795.51it/s]\n",
      "Ranking: 100%|██████████| 4462/4462 [00:24<00:00, 180.28it/s]\n"
     ]
    },
    {
     "name": "stdout",
     "output_type": "stream",
     "text": [
      "WMF(K=230) model is saved to cornac_experiments/WMF(K=230)/2022-06-13_03-00-19-326544.pkl\n",
      "\n",
      "[WMF(K=240)] Training started!\n"
     ]
    },
    {
     "name": "stderr",
     "output_type": "stream",
     "text": [
      "100%|██████████| 1000/1000 [1:31:39<00:00,  5.50s/it, loss=3.97]\n"
     ]
    },
    {
     "name": "stdout",
     "output_type": "stream",
     "text": [
      "Learning completed!\n",
      "\n",
      "[WMF(K=240)] Evaluation started!\n"
     ]
    },
    {
     "name": "stderr",
     "output_type": "stream",
     "text": [
      "Rating: 100%|██████████| 18588/18588 [00:00<00:00, 55187.43it/s]\n",
      "Ranking: 100%|██████████| 4462/4462 [00:25<00:00, 177.31it/s]\n"
     ]
    },
    {
     "name": "stdout",
     "output_type": "stream",
     "text": [
      "WMF(K=240) model is saved to cornac_experiments/WMF(K=240)/2022-06-13_04-32-25-479659.pkl\n",
      "\n",
      "[WMF(K=250)] Training started!\n"
     ]
    },
    {
     "name": "stderr",
     "output_type": "stream",
     "text": [
      "100%|██████████| 1000/1000 [1:43:55<00:00,  6.24s/it, loss=3.85]\n"
     ]
    },
    {
     "name": "stdout",
     "output_type": "stream",
     "text": [
      "Learning completed!\n",
      "\n",
      "[WMF(K=250)] Evaluation started!\n"
     ]
    },
    {
     "name": "stderr",
     "output_type": "stream",
     "text": [
      "Rating: 100%|██████████| 18588/18588 [00:00<00:00, 59801.02it/s]\n",
      "Ranking: 100%|██████████| 4462/4462 [00:25<00:00, 176.80it/s]\n"
     ]
    },
    {
     "name": "stdout",
     "output_type": "stream",
     "text": [
      "WMF(K=250) model is saved to cornac_experiments/WMF(K=250)/2022-06-13_06-16-47-567935.pkl\n",
      "\n",
      "[WMF(K=260)] Training started!\n"
     ]
    },
    {
     "name": "stderr",
     "output_type": "stream",
     "text": [
      "100%|██████████| 1000/1000 [1:42:41<00:00,  6.16s/it, loss=3.73]\n"
     ]
    },
    {
     "name": "stdout",
     "output_type": "stream",
     "text": [
      "Learning completed!\n",
      "\n",
      "[WMF(K=260)] Evaluation started!\n"
     ]
    },
    {
     "name": "stderr",
     "output_type": "stream",
     "text": [
      "Rating: 100%|██████████| 18588/18588 [00:00<00:00, 57567.71it/s]\n",
      "Ranking: 100%|██████████| 4462/4462 [00:25<00:00, 174.09it/s]\n"
     ]
    },
    {
     "name": "stdout",
     "output_type": "stream",
     "text": [
      "WMF(K=260) model is saved to cornac_experiments/WMF(K=260)/2022-06-13_07-59-56-017634.pkl\n",
      "\n",
      "[WMF(K=270)] Training started!\n"
     ]
    },
    {
     "name": "stderr",
     "output_type": "stream",
     "text": [
      "100%|██████████| 1000/1000 [1:42:36<00:00,  6.16s/it, loss=3.63]\n"
     ]
    },
    {
     "name": "stdout",
     "output_type": "stream",
     "text": [
      "Learning completed!\n",
      "\n",
      "[WMF(K=270)] Evaluation started!\n"
     ]
    },
    {
     "name": "stderr",
     "output_type": "stream",
     "text": [
      "Rating: 100%|██████████| 18588/18588 [00:00<00:00, 57703.89it/s]\n",
      "Ranking: 100%|██████████| 4462/4462 [00:25<00:00, 173.49it/s]\n"
     ]
    },
    {
     "name": "stdout",
     "output_type": "stream",
     "text": [
      "WMF(K=270) model is saved to cornac_experiments/WMF(K=270)/2022-06-13_09-42-59-681233.pkl\n",
      "\n",
      "[WMF(K=280)] Training started!\n"
     ]
    },
    {
     "name": "stderr",
     "output_type": "stream",
     "text": [
      "100%|██████████| 1000/1000 [1:56:11<00:00,  6.97s/it, loss=3.53]\n"
     ]
    },
    {
     "name": "stdout",
     "output_type": "stream",
     "text": [
      "Learning completed!\n",
      "\n",
      "[WMF(K=280)] Evaluation started!\n"
     ]
    },
    {
     "name": "stderr",
     "output_type": "stream",
     "text": [
      "Rating: 100%|██████████| 18588/18588 [00:00<00:00, 55891.94it/s]\n",
      "Ranking: 100%|██████████| 4462/4462 [00:25<00:00, 173.40it/s]\n"
     ]
    },
    {
     "name": "stdout",
     "output_type": "stream",
     "text": [
      "WMF(K=280) model is saved to cornac_experiments/WMF(K=280)/2022-06-13_11-39-38-475623.pkl\n",
      "\n",
      "[WMF(K=290)] Training started!\n"
     ]
    },
    {
     "name": "stderr",
     "output_type": "stream",
     "text": [
      "100%|██████████| 1000/1000 [1:56:25<00:00,  6.99s/it, loss=3.43]\n"
     ]
    },
    {
     "name": "stdout",
     "output_type": "stream",
     "text": [
      "Learning completed!\n",
      "\n",
      "[WMF(K=290)] Evaluation started!\n"
     ]
    },
    {
     "name": "stderr",
     "output_type": "stream",
     "text": [
      "Rating: 100%|██████████| 18588/18588 [00:00<00:00, 57316.91it/s]\n",
      "Ranking: 100%|██████████| 4462/4462 [00:25<00:00, 172.87it/s]\n"
     ]
    },
    {
     "name": "stdout",
     "output_type": "stream",
     "text": [
      "WMF(K=290) model is saved to cornac_experiments/WMF(K=290)/2022-06-13_13-36-30-977207.pkl\n",
      "\n",
      "[WMF(K=300)] Training started!\n"
     ]
    },
    {
     "name": "stderr",
     "output_type": "stream",
     "text": [
      "100%|██████████| 1000/1000 [1:59:56<00:00,  7.20s/it, loss=3.35] \n"
     ]
    },
    {
     "name": "stdout",
     "output_type": "stream",
     "text": [
      "Learning completed!\n",
      "\n",
      "[WMF(K=300)] Evaluation started!\n"
     ]
    },
    {
     "name": "stderr",
     "output_type": "stream",
     "text": [
      "Rating: 100%|██████████| 18588/18588 [00:00<00:00, 50843.40it/s]\n",
      "Ranking: 100%|██████████| 4462/4462 [00:26<00:00, 171.56it/s]"
     ]
    },
    {
     "name": "stdout",
     "output_type": "stream",
     "text": [
      "WMF(K=300) model is saved to cornac_experiments/WMF(K=300)/2022-06-13_15-36-54-972409.pkl\n",
      "\n",
      "TEST:\n",
      "...\n",
      "           |   RMSE |    AUC |  F1@20 |    MRR | NCRR@20 | NDCG@20 | Recall@20 | Train (s) | Test (s)\n",
      "---------- + ------ + ------ + ------ + ------ + ------- + ------- + --------- + --------- + --------\n",
      "WMF(K=10)  | 3.0016 | 0.6567 | 0.0054 | 0.0178 |  0.0060 |  0.0086 |    0.0145 | 1993.1588 |  23.4081\n",
      "WMF(K=20)  | 2.9987 | 0.6392 | 0.0056 | 0.0171 |  0.0057 |  0.0085 |    0.0148 | 2099.9651 |  23.6742\n",
      "WMF(K=30)  | 2.9932 | 0.6280 | 0.0055 | 0.0167 |  0.0062 |  0.0093 |    0.0164 | 2252.1428 |  23.6327\n",
      "WMF(K=40)  | 2.9871 | 0.6339 | 0.0053 | 0.0154 |  0.0053 |  0.0084 |    0.0156 | 2366.7826 |  23.6294\n",
      "WMF(K=50)  | 2.8696 | 0.6625 | 0.0069 | 0.0211 |  0.0075 |  0.0115 |    0.0213 | 2524.2343 |  23.8421\n",
      "WMF(K=60)  | 2.8604 | 0.6542 | 0.0068 | 0.0214 |  0.0078 |  0.0122 |    0.0243 | 2720.2537 |  23.9367\n",
      "WMF(K=70)  | 2.8760 | 0.6449 | 0.0053 | 0.0184 |  0.0061 |  0.0096 |    0.0197 | 2863.4038 |  23.8728\n",
      "WMF(K=80)  | 2.8855 | 0.6420 | 0.0051 | 0.0160 |  0.0052 |  0.0089 |    0.0194 | 2944.1601 |  23.8359\n",
      "WMF(K=90)  | 2.8958 | 0.6361 | 0.0045 | 0.0135 |  0.0041 |  0.0075 |    0.0172 | 3128.9944 |  24.0556\n",
      "WMF(K=100) | 2.9042 | 0.6320 | 0.0040 | 0.0125 |  0.0036 |  0.0068 |    0.0157 | 3320.2108 |  24.0922\n",
      "WMF(K=110) | 2.9119 | 0.6308 | 0.0038 | 0.0110 |  0.0031 |  0.0065 |    0.0163 | 3428.9781 |  24.5077\n",
      "WMF(K=120) | 2.9169 | 0.6276 | 0.0035 | 0.0104 |  0.0027 |  0.0059 |    0.0149 | 3607.9553 |  24.3239\n",
      "WMF(K=130) | 2.9227 | 0.6247 | 0.0031 | 0.0098 |  0.0024 |  0.0052 |    0.0132 | 3800.0353 |  24.4332\n",
      "WMF(K=140) | 2.9281 | 0.6216 | 0.0030 | 0.0092 |  0.0023 |  0.0050 |    0.0129 | 3958.4564 |  24.5037\n",
      "WMF(K=150) | 2.9322 | 0.6181 | 0.0027 | 0.0089 |  0.0021 |  0.0046 |    0.0120 | 4102.4989 |  24.7848\n",
      "WMF(K=160) | 2.9366 | 0.6136 | 0.0026 | 0.0085 |  0.0019 |  0.0045 |    0.0121 | 4282.8836 |  24.7981\n",
      "WMF(K=170) | 2.9404 | 0.6088 | 0.0024 | 0.0080 |  0.0017 |  0.0041 |    0.0112 | 4490.5443 |  25.1464\n",
      "WMF(K=180) | 2.9433 | 0.6047 | 0.0023 | 0.0077 |  0.0016 |  0.0040 |    0.0110 | 4582.0115 |  25.1909\n",
      "WMF(K=190) | 2.9457 | 0.6044 | 0.0021 | 0.0077 |  0.0016 |  0.0038 |    0.0102 | 4665.5466 |  25.3530\n",
      "WMF(K=200) | 2.9491 | 0.6000 | 0.0021 | 0.0074 |  0.0015 |  0.0036 |    0.0101 | 4837.0670 |  25.3774\n",
      "WMF(K=210) | 2.9510 | 0.5976 | 0.0021 | 0.0072 |  0.0014 |  0.0036 |    0.0102 | 4981.1380 |  25.5790\n",
      "WMF(K=220) | 2.9532 | 0.5944 | 0.0020 | 0.0071 |  0.0014 |  0.0036 |    0.0103 | 5222.3602 |  25.5801\n",
      "WMF(K=230) | 2.9551 | 0.5921 | 0.0018 | 0.0070 |  0.0013 |  0.0032 |    0.0087 | 5428.2682 |  25.6388\n",
      "WMF(K=240) | 2.9573 | 0.5926 | 0.0017 | 0.0069 |  0.0013 |  0.0031 |    0.0084 | 5500.0259 |  26.0914\n",
      "WMF(K=250) | 2.9591 | 0.5912 | 0.0017 | 0.0067 |  0.0012 |  0.0030 |    0.0082 | 6235.9310 |  26.1191\n",
      "WMF(K=260) | 2.9611 | 0.5884 | 0.0016 | 0.0066 |  0.0012 |  0.0029 |    0.0080 | 6161.8711 |  26.5282\n",
      "WMF(K=270) | 2.9621 | 0.5891 | 0.0016 | 0.0066 |  0.0012 |  0.0029 |    0.0081 | 6156.9936 |  26.6178\n",
      "WMF(K=280) | 2.9645 | 0.5845 | 0.0015 | 0.0063 |  0.0011 |  0.0027 |    0.0074 | 6972.0917 |  26.6476\n",
      "WMF(K=290) | 2.9649 | 0.5857 | 0.0014 | 0.0063 |  0.0011 |  0.0027 |    0.0075 | 6985.7339 |  26.7106\n",
      "WMF(K=300) | 2.9675 | 0.5841 | 0.0015 | 0.0062 |  0.0011 |  0.0026 |    0.0072 | 7196.9774 |  26.9583\n",
      "\n",
      "CPU times: user 23d 16h 19min 40s, sys: 2d 20h 27min 20s, total: 26d 12h 47min\n",
      "Wall time: 1d 11h 59min 20s\n"
     ]
    },
    {
     "name": "stderr",
     "output_type": "stream",
     "text": [
      "\n"
     ]
    }
   ],
   "source": [
    "%%time\n",
    "model_experiment = cornac.Experiment(\n",
    "    eval_method=rs, \n",
    "    models=models, \n",
    "    metrics=metrics,\n",
    "    user_based=True,\n",
    "    save_dir='cornac_experiments',\n",
    ")\n",
    "\n",
    "model_experiment.run()"
   ]
  },
  {
   "cell_type": "code",
   "execution_count": null,
   "metadata": {},
   "outputs": [],
   "source": []
  },
  {
   "cell_type": "code",
   "execution_count": null,
   "metadata": {},
   "outputs": [],
   "source": []
  },
  {
   "cell_type": "code",
   "execution_count": null,
   "metadata": {},
   "outputs": [],
   "source": []
  },
  {
   "cell_type": "markdown",
   "metadata": {},
   "source": [
    "## Train on best model"
   ]
  },
  {
   "cell_type": "raw",
   "metadata": {
    "tags": []
   },
   "source": [
    "K = 500\n",
    "#lambda_u = 0.01\n",
    "#lambda_v = 0.01\n",
    "#a = 1\n",
    "#b = 0.01\n",
    "#learning_rate = 0.001\n",
    "\n",
    "optimal_model = WMF(\n",
    "    k=K, \n",
    "    max_iter=1000, \n",
    "    learning_rate=learning_rate, \n",
    "    lambda_u=lambda_u, \n",
    "    lambda_v=lambda_v,\n",
    "    a=a, \n",
    "    b=b, \n",
    "    verbose=VERBOSE, \n",
    "    seed=SEED, \n",
    "    name=f'WMF(K={K},lambda_u={lambda_u},lambda_v={lambda_v},learning_rate={learning_rate},a={a},b={b})')"
   ]
  },
  {
   "cell_type": "markdown",
   "metadata": {},
   "source": [
    "### Training"
   ]
  },
  {
   "cell_type": "markdown",
   "metadata": {},
   "source": [
    "We will train on the train data, and validate on the probe data"
   ]
  },
  {
   "cell_type": "raw",
   "metadata": {
    "ExecuteTime": {
     "end_time": "2022-05-12T13:22:29.063356Z",
     "start_time": "2022-05-12T13:22:28.816385Z"
    }
   },
   "source": [
    "%%time\n",
    "optimal_model.fit(\n",
    "    train_set=dataset_train, \n",
    "    val_set=dataset_probe\n",
    ")"
   ]
  },
  {
   "cell_type": "markdown",
   "metadata": {},
   "source": [
    "### Save the model"
   ]
  },
  {
   "cell_type": "raw",
   "metadata": {},
   "source": [
    "# Save model\n",
    "optimal_model.save('.')"
   ]
  },
  {
   "cell_type": "markdown",
   "metadata": {},
   "source": [
    "## Extract the recommendations"
   ]
  },
  {
   "cell_type": "markdown",
   "metadata": {
    "tags": []
   },
   "source": [
    "### TO BE COMPLETED\n"
   ]
  },
  {
   "cell_type": "markdown",
   "metadata": {},
   "source": [
    "# Hyperparameter search"
   ]
  },
  {
   "cell_type": "markdown",
   "metadata": {},
   "source": [
    "### TO BE COMPLETED"
   ]
  }
 ],
 "metadata": {
  "colab": {
   "collapsed_sections": [],
   "name": "03_matrix_factorization.ipynb",
   "provenance": []
  },
  "kernelspec": {
   "display_name": "Python 3 (ipykernel)",
   "language": "python",
   "name": "python3"
  },
  "language_info": {
   "codemirror_mode": {
    "name": "ipython",
    "version": 3
   },
   "file_extension": ".py",
   "mimetype": "text/x-python",
   "name": "python",
   "nbconvert_exporter": "python",
   "pygments_lexer": "ipython3",
   "version": "3.7.13"
  },
  "toc": {
   "base_numbering": 1,
   "nav_menu": {},
   "number_sections": true,
   "sideBar": true,
   "skip_h1_title": false,
   "title_cell": "Table of Contents",
   "title_sidebar": "Contents",
   "toc_cell": false,
   "toc_position": {},
   "toc_section_display": true,
   "toc_window_display": false
  },
  "toc-autonumbering": true,
  "toc-showtags": true,
  "varInspector": {
   "cols": {
    "lenName": 16,
    "lenType": 16,
    "lenVar": 40
   },
   "kernels_config": {
    "python": {
     "delete_cmd_postfix": "",
     "delete_cmd_prefix": "del ",
     "library": "var_list.py",
     "varRefreshCmd": "print(var_dic_list())"
    },
    "r": {
     "delete_cmd_postfix": ") ",
     "delete_cmd_prefix": "rm(",
     "library": "var_list.r",
     "varRefreshCmd": "cat(var_dic_list()) "
    }
   },
   "types_to_exclude": [
    "module",
    "function",
    "builtin_function_or_method",
    "instance",
    "_Feature"
   ],
   "window_display": false
  }
 },
 "nbformat": 4,
 "nbformat_minor": 4
}
