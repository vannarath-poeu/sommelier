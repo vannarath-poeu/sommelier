{
 "cells": [
  {
   "cell_type": "markdown",
   "metadata": {},
   "source": [
    "# Version updates"
   ]
  },
  {
   "cell_type": "code",
   "execution_count": 1,
   "metadata": {},
   "outputs": [],
   "source": [
    "__version__ = 'v0.0.1'"
   ]
  },
  {
   "cell_type": "markdown",
   "metadata": {},
   "source": [
    "1. Initial experiments"
   ]
  },
  {
   "cell_type": "markdown",
   "metadata": {},
   "source": [
    "# Main code"
   ]
  },
  {
   "cell_type": "markdown",
   "metadata": {
    "colab_type": "text",
    "id": "MqktDa7H2hKz",
    "tags": []
   },
   "source": [
    "## Setup"
   ]
  },
  {
   "cell_type": "markdown",
   "metadata": {},
   "source": [
    "### Install other components"
   ]
  },
  {
   "cell_type": "markdown",
   "metadata": {
    "ExecuteTime": {
     "end_time": "2022-05-03T07:56:28.218238Z",
     "start_time": "2022-05-03T07:56:28.218233Z"
    },
    "colab": {},
    "colab_type": "code",
    "id": "41oWCMUG2eC_"
   },
   "source": [
    "!pip install --quiet cornac==1.5.2 adjustText"
   ]
  },
  {
   "cell_type": "markdown",
   "metadata": {
    "tags": []
   },
   "source": [
    "### Import Libraries"
   ]
  },
  {
   "cell_type": "code",
   "execution_count": 2,
   "metadata": {
    "ExecuteTime": {
     "end_time": "2022-05-12T13:11:25.977391Z",
     "start_time": "2022-05-12T13:11:25.154763Z"
    },
    "colab": {
     "base_uri": "https://localhost:8080/",
     "height": 68
    },
    "colab_type": "code",
    "id": "YqKrDcGH2k7E",
    "outputId": "7594ca3b-a5ee-4f36-d2ec-b5bd6fb63cc1"
   },
   "outputs": [
    {
     "name": "stderr",
     "output_type": "stream",
     "text": [
      "/usr/local/lib/python3.7/site-packages/tqdm/auto.py:22: TqdmWarning: IProgress not found. Please update jupyter and ipywidgets. See https://ipywidgets.readthedocs.io/en/stable/user_install.html\n",
      "  from .autonotebook import tqdm as notebook_tqdm\n"
     ]
    },
    {
     "name": "stdout",
     "output_type": "stream",
     "text": [
      "System version: 3.7.13 (default, May 11 2022, 08:49:57) \n",
      "[GCC 10.2.1 20210110]\n",
      "Cornac version: 1.14.2\n"
     ]
    }
   ],
   "source": [
    "import os\n",
    "import sys\n",
    "import itertools\n",
    "\n",
    "import datetime\n",
    "import scipy.sparse as sp\n",
    "import numpy as np\n",
    "import pandas as pd\n",
    "#import seaborn as sns\n",
    "import matplotlib.pyplot as plt\n",
    "import zipfile\n",
    "from adjustText import adjust_text\n",
    "from collections import defaultdict\n",
    "from time import sleep\n",
    "from tqdm.notebook import tqdm\n",
    "\n",
    "%matplotlib inline\n",
    "\n",
    "import cornac\n",
    "from cornac.utils import cache\n",
    "from cornac.datasets import movielens\n",
    "from cornac.eval_methods import RatioSplit, CrossValidation\n",
    "from cornac.models import MF, NMF, WMF, BPR, BaselineOnly, NeuMF, CDL\n",
    "from cornac.hyperopt import Discrete, Continuous\n",
    "from cornac.hyperopt import GridSearch, RandomSearch\n",
    "\n",
    "print(f\"System version: {sys.version}\")\n",
    "print(f\"Cornac version: {cornac.__version__}\")\n",
    "\n",
    "VERBOSE = True"
   ]
  },
  {
   "cell_type": "markdown",
   "metadata": {},
   "source": [
    "### Use of SEED\n",
    "Determine whether we want to use a seed for repeatability.  The drawback is that training will take longer because of single-thread.  \n",
    "\n",
    "This can be set to False first in the initial experimentation, and locked for consistency when needed later"
   ]
  },
  {
   "cell_type": "code",
   "execution_count": 3,
   "metadata": {},
   "outputs": [],
   "source": [
    "USE_SEED = True  # True = repeatable, no parallelisation\n",
    "\n",
    "if USE_SEED:\n",
    "    SEED = 42\n",
    "else:\n",
    "    SEED = None"
   ]
  },
  {
   "cell_type": "markdown",
   "metadata": {
    "colab_type": "text",
    "id": "4fLSfYBAsN3h"
   },
   "source": [
    "### Load data"
   ]
  },
  {
   "cell_type": "code",
   "execution_count": 4,
   "metadata": {
    "ExecuteTime": {
     "end_time": "2022-05-12T13:11:33.302194Z",
     "start_time": "2022-05-12T13:11:29.698759Z"
    }
   },
   "outputs": [],
   "source": [
    "df = pd.read_csv('../../data/wine_ratings.csv')"
   ]
  },
  {
   "cell_type": "code",
   "execution_count": 5,
   "metadata": {},
   "outputs": [
    {
     "data": {
      "text/html": [
       "<div>\n",
       "<style scoped>\n",
       "    .dataframe tbody tr th:only-of-type {\n",
       "        vertical-align: middle;\n",
       "    }\n",
       "\n",
       "    .dataframe tbody tr th {\n",
       "        vertical-align: top;\n",
       "    }\n",
       "\n",
       "    .dataframe thead th {\n",
       "        text-align: right;\n",
       "    }\n",
       "</style>\n",
       "<table border=\"1\" class=\"dataframe\">\n",
       "  <thead>\n",
       "    <tr style=\"text-align: right;\">\n",
       "      <th></th>\n",
       "      <th>user_id</th>\n",
       "      <th>item_id</th>\n",
       "      <th>rating</th>\n",
       "    </tr>\n",
       "  </thead>\n",
       "  <tbody>\n",
       "    <tr>\n",
       "      <th>0</th>\n",
       "      <td>34297304</td>\n",
       "      <td>4026015</td>\n",
       "      <td>3.0</td>\n",
       "    </tr>\n",
       "    <tr>\n",
       "      <th>1</th>\n",
       "      <td>34297304</td>\n",
       "      <td>2057563</td>\n",
       "      <td>4.0</td>\n",
       "    </tr>\n",
       "    <tr>\n",
       "      <th>2</th>\n",
       "      <td>34297304</td>\n",
       "      <td>1374478</td>\n",
       "      <td>3.0</td>\n",
       "    </tr>\n",
       "    <tr>\n",
       "      <th>3</th>\n",
       "      <td>34297304</td>\n",
       "      <td>1135067</td>\n",
       "      <td>2.0</td>\n",
       "    </tr>\n",
       "    <tr>\n",
       "      <th>4</th>\n",
       "      <td>34297304</td>\n",
       "      <td>7103</td>\n",
       "      <td>3.0</td>\n",
       "    </tr>\n",
       "  </tbody>\n",
       "</table>\n",
       "</div>"
      ],
      "text/plain": [
       "    user_id  item_id  rating\n",
       "0  34297304  4026015     3.0\n",
       "1  34297304  2057563     4.0\n",
       "2  34297304  1374478     3.0\n",
       "3  34297304  1135067     2.0\n",
       "4  34297304     7103     3.0"
      ]
     },
     "execution_count": 5,
     "metadata": {},
     "output_type": "execute_result"
    }
   ],
   "source": [
    "df.head()"
   ]
  },
  {
   "cell_type": "code",
   "execution_count": 6,
   "metadata": {},
   "outputs": [
    {
     "data": {
      "text/plain": [
       "(169342, 3)"
      ]
     },
     "execution_count": 6,
     "metadata": {},
     "output_type": "execute_result"
    }
   ],
   "source": [
    "df.shape"
   ]
  },
  {
   "cell_type": "code",
   "execution_count": 7,
   "metadata": {
    "ExecuteTime": {
     "end_time": "2022-05-12T13:11:33.331101Z",
     "start_time": "2022-05-12T13:11:33.325625Z"
    }
   },
   "outputs": [
    {
     "name": "stderr",
     "output_type": "stream",
     "text": [
      "/usr/local/lib/python3.7/site-packages/cornac/data/dataset.py:361: UserWarning: 22203 duplicated observations are removed!\n",
      "  warnings.warn(\"%d duplicated observations are removed!\" % dup_count)\n"
     ]
    }
   ],
   "source": [
    "dataset = cornac.data.Dataset.from_uir(df.itertuples(index=False))"
   ]
  },
  {
   "cell_type": "markdown",
   "metadata": {},
   "source": [
    "### Display some facts of what we have"
   ]
  },
  {
   "cell_type": "code",
   "execution_count": 8,
   "metadata": {},
   "outputs": [
    {
     "name": "stdout",
     "output_type": "stream",
     "text": [
      "Number of users: 5,065\n",
      "Number of items: 44,725\n",
      "Shape of full matrix: (5065, 44725)\n",
      "Sparsity of matrix: 99.925%\n",
      "\n",
      "CPU times: user 507 ms, sys: 8.96 ms, total: 516 ms\n",
      "Wall time: 515 ms\n"
     ]
    }
   ],
   "source": [
    "%%time\n",
    "\n",
    "# Display some parameters\n",
    "n_users = df['user_id'].nunique()\n",
    "n_items = df['item_id'].nunique()\n",
    "\n",
    "print(f'Number of users: {n_users:,}')\n",
    "print(f'Number of items: {n_items:,}')\n",
    "print(f'Shape of full matrix: {cornac.data.Dataset.from_uir(df.itertuples(index=False)).matrix.shape}')\n",
    "\n",
    "# Sparsity\n",
    "total_possible_rankings = n_users * n_items\n",
    "sparsity = 1 - df.shape[0]/total_possible_rankings\n",
    "print(f'Sparsity of matrix: {100*sparsity:0.3f}%')\n",
    "print()"
   ]
  },
  {
   "cell_type": "markdown",
   "metadata": {},
   "source": [
    "## Run experiments on some of the potential candidate models"
   ]
  },
  {
   "cell_type": "code",
   "execution_count": 10,
   "metadata": {
    "ExecuteTime": {
     "end_time": "2022-05-12T13:22:21.497168Z",
     "start_time": "2022-05-12T13:22:20.366799Z"
    },
    "colab": {
     "base_uri": "https://localhost:8080/",
     "height": 136
    },
    "colab_type": "code",
    "id": "4xU11wUMso7L",
    "outputId": "289ca379-8dbc-493a-e902-433d03c0fc10"
   },
   "outputs": [
    {
     "name": "stdout",
     "output_type": "stream",
     "text": [
      "rating_threshold = 1.0\n",
      "exclude_unknowns = True\n",
      "---\n",
      "Training data:\n",
      "Number of users = 5065\n",
      "Number of items = 39728\n",
      "Number of ratings = 120708\n",
      "Max rating = 5.0\n",
      "Min rating = 1.0\n",
      "Global mean = 3.9\n",
      "---\n",
      "Test data:\n",
      "Number of users = 4667\n",
      "Number of items = 11752\n",
      "Number of ratings = 27608\n",
      "Number of unknown users = 0\n",
      "Number of unknown items = 0\n",
      "---\n",
      "Total users = 5065\n",
      "Total items = 39728\n",
      "CPU times: user 502 ms, sys: 23.4 ms, total: 525 ms\n",
      "Wall time: 524 ms\n"
     ]
    }
   ],
   "source": [
    "%%time\n",
    "K = 50\n",
    "n_iterations = 100\n",
    "\n",
    "# Baseline models\n",
    "baseline = BaselineOnly()\n",
    "\n",
    "svd = cornac.models.SVD(\n",
    "    k=K,\n",
    "    max_iter = n_iterations,\n",
    "    verbose=VERBOSE,\n",
    "    seed=SEED,\n",
    "    name=f'SVD(K={K})'\n",
    ")\n",
    "\n",
    "mostpop = cornac.models.MostPop(\n",
    "    name = f'MostPop'\n",
    ")\n",
    "\n",
    "mf = cornac.models.MF(\n",
    "    k=K, \n",
    "    max_iter=n_iterations,\n",
    "    verbose=VERBOSE,\n",
    "    seed=SEED,\n",
    "    name=f'MF(K={K})'\n",
    ")\n",
    "\n",
    "# Collaborative\n",
    "bpr = cornac.models.BPR(\n",
    "    k=K, \n",
    "    max_iter=n_iterations,\n",
    "    verbose=VERBOSE, \n",
    "    seed=SEED, \n",
    "    name=f'BPR(K={K})'\n",
    ")\n",
    "\n",
    "wmf = cornac.models.WMF(\n",
    "    k=K, \n",
    "    max_iter=n_iterations,\n",
    "    verbose=VERBOSE, \n",
    "    seed=SEED, \n",
    "    name=f'WMF(K={K})'\n",
    ")\n",
    "\n",
    "# With Modality\n",
    "# TODO\n",
    "\n",
    "rs = RatioSplit(list(df.itertuples(index=False, name=None)), test_size=0.2, seed=SEED, verbose=VERBOSE)\n",
    "\n",
    "# Define models to try\n",
    "models = [\n",
    "    baseline,\n",
    "    svd,\n",
    "    mostpop,\n",
    "    mf,\n",
    "    bpr,\n",
    "    wmf,\n",
    "]\n",
    "\n",
    "# Define metrics\n",
    "metrics = [\n",
    "    cornac.metrics.RMSE(),\n",
    "    cornac.metrics.FMeasure(k=20),\n",
    "    cornac.metrics.AUC(),\n",
    "    cornac.metrics.MRR(),\n",
    "    cornac.metrics.NCRR(k=20),\n",
    "    cornac.metrics.NDCG(k=20),\n",
    "    cornac.metrics.Recall(k=20)\n",
    "]"
   ]
  },
  {
   "cell_type": "code",
   "execution_count": 11,
   "metadata": {},
   "outputs": [
    {
     "name": "stdout",
     "output_type": "stream",
     "text": [
      "\n",
      "[BaselineOnly] Training started!\n",
      "\n",
      "[BaselineOnly] Evaluation started!\n"
     ]
    },
    {
     "name": "stderr",
     "output_type": "stream",
     "text": [
      "Rating: 100%|██████████| 27608/27608 [00:00<00:00, 91428.97it/s]\n",
      "Ranking: 100%|██████████| 4667/4667 [00:20<00:00, 226.52it/s]\n"
     ]
    },
    {
     "name": "stdout",
     "output_type": "stream",
     "text": [
      "\n",
      "[SVD(K=50)] Training started!\n"
     ]
    },
    {
     "name": "stderr",
     "output_type": "stream",
     "text": [
      "100%|██████████| 100/100 [00:00<00:00, 135.54it/s, loss=5010.04] \n"
     ]
    },
    {
     "name": "stdout",
     "output_type": "stream",
     "text": [
      "Optimization finished!\n",
      "\n",
      "[SVD(K=50)] Evaluation started!\n"
     ]
    },
    {
     "name": "stderr",
     "output_type": "stream",
     "text": [
      "Rating: 100%|██████████| 27608/27608 [00:00<00:00, 64581.59it/s]\n",
      "Ranking: 100%|██████████| 4667/4667 [00:23<00:00, 200.44it/s]\n"
     ]
    },
    {
     "name": "stdout",
     "output_type": "stream",
     "text": [
      "SVD(K=50) model is saved to cornac_experiments/SVD(K=50)/2022-06-09_06-25-12-220120.pkl\n",
      "\n",
      "[MostPop] Training started!\n",
      "\n",
      "[MostPop] Evaluation started!\n"
     ]
    },
    {
     "name": "stderr",
     "output_type": "stream",
     "text": [
      "Rating: 100%|██████████| 27608/27608 [00:00<00:00, 81507.63it/s]\n",
      "Ranking: 100%|██████████| 4667/4667 [00:10<00:00, 431.92it/s]\n"
     ]
    },
    {
     "name": "stdout",
     "output_type": "stream",
     "text": [
      "\n",
      "[MF(K=50)] Training started!\n"
     ]
    },
    {
     "name": "stderr",
     "output_type": "stream",
     "text": [
      "100%|██████████| 100/100 [00:00<00:00, 138.98it/s, loss=5010.04] \n"
     ]
    },
    {
     "name": "stdout",
     "output_type": "stream",
     "text": [
      "Optimization finished!\n",
      "\n",
      "[MF(K=50)] Evaluation started!\n"
     ]
    },
    {
     "name": "stderr",
     "output_type": "stream",
     "text": [
      "Rating: 100%|██████████| 27608/27608 [00:00<00:00, 63922.31it/s]\n",
      "Ranking: 100%|██████████| 4667/4667 [00:23<00:00, 200.69it/s]\n"
     ]
    },
    {
     "name": "stdout",
     "output_type": "stream",
     "text": [
      "MF(K=50) model is saved to cornac_experiments/MF(K=50)/2022-06-09_06-25-49-004933.pkl\n",
      "\n",
      "[BPR(K=50)] Training started!\n"
     ]
    },
    {
     "name": "stderr",
     "output_type": "stream",
     "text": [
      "100%|██████████| 100/100 [00:02<00:00, 36.75it/s, correct=78.58%, skipped=0.09%]\n"
     ]
    },
    {
     "name": "stdout",
     "output_type": "stream",
     "text": [
      "Optimization finished!\n",
      "\n",
      "[BPR(K=50)] Evaluation started!\n"
     ]
    },
    {
     "name": "stderr",
     "output_type": "stream",
     "text": [
      "Rating: 100%|██████████| 27608/27608 [00:00<00:00, 62256.67it/s]\n",
      "Ranking: 100%|██████████| 4667/4667 [00:23<00:00, 201.57it/s]\n"
     ]
    },
    {
     "name": "stdout",
     "output_type": "stream",
     "text": [
      "BPR(K=50) model is saved to cornac_experiments/BPR(K=50)/2022-06-09_06-26-15-938922.pkl\n",
      "\n",
      "[WMF(K=50)] Training started!\n"
     ]
    },
    {
     "name": "stderr",
     "output_type": "stream",
     "text": [
      "100%|██████████| 100/100 [05:17<00:00,  3.18s/it, loss=13.7]\n"
     ]
    },
    {
     "name": "stdout",
     "output_type": "stream",
     "text": [
      "Learning completed!\n",
      "\n",
      "[WMF(K=50)] Evaluation started!\n"
     ]
    },
    {
     "name": "stderr",
     "output_type": "stream",
     "text": [
      "Rating: 100%|██████████| 27608/27608 [00:00<00:00, 63911.02it/s]\n",
      "Ranking: 100%|██████████| 4667/4667 [00:29<00:00, 156.35it/s]"
     ]
    },
    {
     "name": "stdout",
     "output_type": "stream",
     "text": [
      "WMF(K=50) model is saved to cornac_experiments/WMF(K=50)/2022-06-09_06-32-05-504021.pkl\n",
      "\n",
      "TEST:\n",
      "...\n",
      "             |   RMSE |    AUC |  F1@20 |    MRR | NCRR@20 | NDCG@20 | Recall@20 | Train (s) | Test (s)\n",
      "------------ + ------ + ------ + ------ + ------ + ------- + ------- + --------- + --------- + --------\n",
      "BaselineOnly | 0.5089 | 0.5795 | 0.0034 | 0.0112 |  0.0032 |  0.0045 |    0.0071 |    0.0220 |  21.5613\n",
      "SVD(K=50)    | 0.5001 | 0.5515 | 0.0009 | 0.0045 |  0.0014 |  0.0014 |    0.0016 |    0.7927 |  24.3040\n",
      "MostPop      | 1.4995 | 0.7823 | 0.0132 | 0.0450 |  0.0162 |  0.0207 |    0.0321 |    0.0045 |  11.7229\n",
      "MF(K=50)     | 0.5001 | 0.5515 | 0.0009 | 0.0045 |  0.0014 |  0.0014 |    0.0016 |    0.7722 |  24.2747\n",
      "BPR(K=50)    | 2.9075 | 0.8354 | 0.0131 | 0.0450 |  0.0161 |  0.0206 |    0.0317 |    2.7402 |  24.1850\n",
      "WMF(K=50)    | 2.5915 | 0.7475 | 0.0390 | 0.0948 |  0.0436 |  0.0583 |    0.0884 |  318.6737 |  30.8815\n",
      "\n",
      "CPU times: user 1h 12min 35s, sys: 14min 39s, total: 1h 27min 14s\n",
      "Wall time: 7min 39s\n"
     ]
    },
    {
     "name": "stderr",
     "output_type": "stream",
     "text": [
      "\n"
     ]
    }
   ],
   "source": [
    "%%time\n",
    "model_experiment = cornac.Experiment(\n",
    "    eval_method=rs, \n",
    "    models=models, \n",
    "    metrics=metrics,\n",
    "    user_based=True,\n",
    "    save_dir='cornac_experiments',\n",
    ")\n",
    "\n",
    "model_experiment.run()"
   ]
  },
  {
   "cell_type": "markdown",
   "metadata": {},
   "source": [
    "## Train on best model"
   ]
  },
  {
   "cell_type": "raw",
   "metadata": {
    "tags": []
   },
   "source": [
    "K = 500\n",
    "#lambda_u = 0.01\n",
    "#lambda_v = 0.01\n",
    "#a = 1\n",
    "#b = 0.01\n",
    "#learning_rate = 0.001\n",
    "\n",
    "optimal_model = WMF(\n",
    "    k=K, \n",
    "    max_iter=1000, \n",
    "    learning_rate=learning_rate, \n",
    "    lambda_u=lambda_u, \n",
    "    lambda_v=lambda_v,\n",
    "    a=a, \n",
    "    b=b, \n",
    "    verbose=VERBOSE, \n",
    "    seed=SEED, \n",
    "    name=f'WMF(K={K},lambda_u={lambda_u},lambda_v={lambda_v},learning_rate={learning_rate},a={a},b={b})')"
   ]
  },
  {
   "cell_type": "markdown",
   "metadata": {},
   "source": [
    "### Training"
   ]
  },
  {
   "cell_type": "markdown",
   "metadata": {},
   "source": [
    "We will train on the train data, and validate on the probe data"
   ]
  },
  {
   "cell_type": "raw",
   "metadata": {
    "ExecuteTime": {
     "end_time": "2022-05-12T13:22:29.063356Z",
     "start_time": "2022-05-12T13:22:28.816385Z"
    }
   },
   "source": [
    "%%time\n",
    "optimal_model.fit(\n",
    "    train_set=dataset_train, \n",
    "    val_set=dataset_probe\n",
    ")"
   ]
  },
  {
   "cell_type": "markdown",
   "metadata": {},
   "source": [
    "### Save the model"
   ]
  },
  {
   "cell_type": "raw",
   "metadata": {},
   "source": [
    "# Save model\n",
    "optimal_model.save('.')"
   ]
  },
  {
   "cell_type": "markdown",
   "metadata": {},
   "source": [
    "## Extract the recommendations"
   ]
  },
  {
   "cell_type": "markdown",
   "metadata": {
    "tags": []
   },
   "source": [
    "### TO BE COMPLETED\n"
   ]
  },
  {
   "cell_type": "markdown",
   "metadata": {},
   "source": [
    "# Hyperparameter search"
   ]
  },
  {
   "cell_type": "markdown",
   "metadata": {},
   "source": [
    "### TO BE COMPLETED"
   ]
  }
 ],
 "metadata": {
  "colab": {
   "collapsed_sections": [],
   "name": "03_matrix_factorization.ipynb",
   "provenance": []
  },
  "kernelspec": {
   "display_name": "Python 3 (ipykernel)",
   "language": "python",
   "name": "python3"
  },
  "language_info": {
   "codemirror_mode": {
    "name": "ipython",
    "version": 3
   },
   "file_extension": ".py",
   "mimetype": "text/x-python",
   "name": "python",
   "nbconvert_exporter": "python",
   "pygments_lexer": "ipython3",
   "version": "3.7.13"
  },
  "toc": {
   "base_numbering": 1,
   "nav_menu": {},
   "number_sections": true,
   "sideBar": true,
   "skip_h1_title": false,
   "title_cell": "Table of Contents",
   "title_sidebar": "Contents",
   "toc_cell": false,
   "toc_position": {},
   "toc_section_display": true,
   "toc_window_display": false
  },
  "toc-autonumbering": true,
  "toc-showtags": true,
  "varInspector": {
   "cols": {
    "lenName": 16,
    "lenType": 16,
    "lenVar": 40
   },
   "kernels_config": {
    "python": {
     "delete_cmd_postfix": "",
     "delete_cmd_prefix": "del ",
     "library": "var_list.py",
     "varRefreshCmd": "print(var_dic_list())"
    },
    "r": {
     "delete_cmd_postfix": ") ",
     "delete_cmd_prefix": "rm(",
     "library": "var_list.r",
     "varRefreshCmd": "cat(var_dic_list()) "
    }
   },
   "types_to_exclude": [
    "module",
    "function",
    "builtin_function_or_method",
    "instance",
    "_Feature"
   ],
   "window_display": false
  }
 },
 "nbformat": 4,
 "nbformat_minor": 4
}
