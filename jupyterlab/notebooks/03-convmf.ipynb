{
 "cells": [
  {
   "cell_type": "code",
   "execution_count": 1,
   "id": "1ee1ed26-fdda-4d18-a43f-22a51288bca0",
   "metadata": {},
   "outputs": [
    {
     "name": "stderr",
     "output_type": "stream",
     "text": [
      "/usr/local/lib/python3.7/site-packages/tqdm/auto.py:22: TqdmWarning: IProgress not found. Please update jupyter and ipywidgets. See https://ipywidgets.readthedocs.io/en/stable/user_install.html\n",
      "  from .autonotebook import tqdm as notebook_tqdm\n"
     ]
    }
   ],
   "source": [
    "import cornac\n",
    "\n",
    "from cornac.data.reader import read_text"
   ]
  },
  {
   "cell_type": "code",
   "execution_count": null,
   "id": "f7f52a9f-abe7-4db6-b588-d71c2669d2de",
   "metadata": {},
   "outputs": [],
   "source": [
    "TEXT_MODALITY_FILE_PATH = \"../../data/text-modality.txt\"\n",
    "TRAINING_FILE_PATH = \"../../data/train_ratings_seen.csv\""
   ]
  },
  {
   "cell_type": "code",
   "execution_count": 3,
   "id": "2adacbf9-b86e-4f9a-b32f-8b8f31ad7539",
   "metadata": {},
   "outputs": [],
   "source": [
    "texts, ids = read_text(TEXT_MODALITY_FILE_PATH, sep=\"::\")"
   ]
  },
  {
   "cell_type": "code",
   "execution_count": 4,
   "id": "c62ddcbd-0bf8-49cd-8999-ebab5a156a29",
   "metadata": {},
   "outputs": [
    {
     "data": {
      "text/plain": [
       "39520"
      ]
     },
     "execution_count": 4,
     "metadata": {},
     "output_type": "execute_result"
    }
   ],
   "source": [
    "len(ids)"
   ]
  },
  {
   "cell_type": "code",
   "execution_count": 5,
   "id": "7a0f318f-436f-4cde-869f-27661e830fb9",
   "metadata": {},
   "outputs": [
    {
     "data": {
      "text/plain": [
       "39520"
      ]
     },
     "execution_count": 5,
     "metadata": {},
     "output_type": "execute_result"
    }
   ],
   "source": [
    "len(texts)"
   ]
  },
  {
   "cell_type": "code",
   "execution_count": 6,
   "id": "71227575-03bf-4b54-bc47-bbb8d9bdea48",
   "metadata": {},
   "outputs": [],
   "source": [
    "item_text_modality = cornac.data.TextModality(\n",
    "    corpus=texts,\n",
    "    ids=ids,\n",
    "    tokenizer=cornac.data.text.BaseTokenizer(sep=\" \", stop_words=\"english\"),\n",
    "    max_vocab=80000,\n",
    "    max_doc_freq=0.5,\n",
    ")"
   ]
  },
  {
   "cell_type": "code",
   "execution_count": 10,
   "id": "8e761d5d-506f-41b2-9ddd-22c0ce1a673e",
   "metadata": {},
   "outputs": [],
   "source": [
    "reader = cornac.data.Reader()\n",
    "ratings = reader.read(TRAINING_FILE_PATH, \"UIR\", sep=\",\", skip_lines=1)"
   ]
  },
  {
   "cell_type": "code",
   "execution_count": null,
   "id": "bb97dfe9-9a6c-4288-97a0-d2d19ae49acf",
   "metadata": {},
   "outputs": [
    {
     "name": "stdout",
     "output_type": "stream",
     "text": [
      "rating_threshold = 4.0\n",
      "exclude_unknowns = True\n",
      "---\n",
      "Training data:\n",
      "Number of users = 5065\n",
      "Number of items = 34405\n",
      "Number of ratings = 95937\n",
      "Max rating = 5.0\n",
      "Min rating = 1.0\n",
      "Global mean = 3.9\n",
      "---\n",
      "Test data:\n",
      "Number of users = 4482\n",
      "Number of items = 8429\n",
      "Number of ratings = 18589\n",
      "Number of unknown users = 0\n",
      "Number of unknown items = 0\n",
      "---\n",
      "Total users = 5065\n",
      "Total items = 34405\n",
      "\n",
      "[ConvMF] Training started!\n"
     ]
    }
   ],
   "source": [
    "VERBOSE = True\n",
    "\n",
    "ratio_split = cornac.eval_methods.RatioSplit(\n",
    "    data=ratings,\n",
    "    test_size=0.2,\n",
    "    rating_threshold=4.0,\n",
    "    exclude_unknowns=True,\n",
    "    item_text=item_text_modality,\n",
    "    verbose=VERBOSE,\n",
    ")\n",
    "\n",
    "convmf = cornac.models.ConvMF(n_epochs=5, verbose=True, seed=123)\n",
    "\n",
    "recall_20 = cornac.metrics.Recall(k=20)\n",
    "\n",
    "cornac.Experiment(\n",
    "    eval_method=ratio_split, models=[convmf], metrics=[recall_20], user_based=True\n",
    ").run()"
   ]
  },
  {
   "cell_type": "code",
   "execution_count": null,
   "id": "23902cde-2b71-4062-a19e-a7cabcddcfd2",
   "metadata": {},
   "outputs": [],
   "source": []
  }
 ],
 "metadata": {
  "kernelspec": {
   "display_name": "Python 3 (ipykernel)",
   "language": "python",
   "name": "python3"
  },
  "language_info": {
   "codemirror_mode": {
    "name": "ipython",
    "version": 3
   },
   "file_extension": ".py",
   "mimetype": "text/x-python",
   "name": "python",
   "nbconvert_exporter": "python",
   "pygments_lexer": "ipython3",
   "version": "3.7.13"
  }
 },
 "nbformat": 4,
 "nbformat_minor": 5
}
