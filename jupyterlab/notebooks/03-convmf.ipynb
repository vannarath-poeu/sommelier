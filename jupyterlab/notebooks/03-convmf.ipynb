{
 "cells": [
  {
   "cell_type": "code",
   "execution_count": 72,
   "id": "62aecaba",
   "metadata": {},
   "outputs": [],
   "source": [
    "import cornac\n",
    "import pandas as pd\n",
    "\n",
    "from cornac.data.reader import read_text"
   ]
  },
  {
   "cell_type": "code",
   "execution_count": 64,
   "id": "52e84f73",
   "metadata": {},
   "outputs": [
    {
     "data": {
      "text/plain": [
       "'1.14.2'"
      ]
     },
     "execution_count": 64,
     "metadata": {},
     "output_type": "execute_result"
    }
   ],
   "source": [
    "cornac.__version__"
   ]
  },
  {
   "cell_type": "code",
   "execution_count": 65,
   "id": "6b4ac6b2",
   "metadata": {},
   "outputs": [],
   "source": [
    "TEXT_MODALITY_FILE_PATH = \"../../data/text-modality.txt\"\n",
    "TRAINING_FILE_PATH = \"../../data/train_ratings_seen.csv\""
   ]
  },
  {
   "cell_type": "code",
   "execution_count": 66,
   "id": "67730341",
   "metadata": {},
   "outputs": [],
   "source": [
    "texts, ids = read_text(TEXT_MODALITY_FILE_PATH, sep=\"::\")"
   ]
  },
  {
   "cell_type": "code",
   "execution_count": 67,
   "id": "aae9daec",
   "metadata": {},
   "outputs": [
    {
     "data": {
      "text/plain": [
       "39520"
      ]
     },
     "execution_count": 67,
     "metadata": {},
     "output_type": "execute_result"
    }
   ],
   "source": [
    "len(ids)"
   ]
  },
  {
   "cell_type": "code",
   "execution_count": 68,
   "id": "5080d0c6",
   "metadata": {},
   "outputs": [
    {
     "data": {
      "text/plain": [
       "39520"
      ]
     },
     "execution_count": 68,
     "metadata": {},
     "output_type": "execute_result"
    }
   ],
   "source": [
    "len(texts)"
   ]
  },
  {
   "cell_type": "code",
   "execution_count": 69,
   "id": "46eb44e5",
   "metadata": {},
   "outputs": [],
   "source": [
    "item_text_modality = cornac.data.TextModality(\n",
    "    corpus=texts,\n",
    "    ids=ids,\n",
    "    tokenizer=cornac.data.text.BaseTokenizer(sep=\" \", stop_words=\"english\"),\n",
    "    max_vocab=800,\n",
    "    max_doc_freq=0.5,\n",
    ")"
   ]
  },
  {
   "cell_type": "code",
   "execution_count": 70,
   "id": "96f7b024",
   "metadata": {},
   "outputs": [],
   "source": [
    "reader = cornac.data.Reader()\n",
    "ratings = reader.read(TRAINING_FILE_PATH, \"UIR\", sep=\",\", skip_lines=1)"
   ]
  },
  {
   "cell_type": "code",
   "execution_count": 71,
   "id": "e96c8e82",
   "metadata": {},
   "outputs": [
    {
     "data": {
      "text/plain": [
       "119922"
      ]
     },
     "execution_count": 71,
     "metadata": {},
     "output_type": "execute_result"
    }
   ],
   "source": [
    "len(ratings)"
   ]
  },
  {
   "cell_type": "code",
   "execution_count": 73,
   "id": "460da245",
   "metadata": {},
   "outputs": [],
   "source": [
    "train_df = pd.DataFrame(ratings, columns=[\"user_id\", \"item_id\", \"ratings\"])\n",
    "count_user = train_df.copy()\n",
    "count_user[\"count\"] = 1\n",
    "counted = count_user[[\"user_id\", \"count\"]].groupby([\"user_id\"]).sum().reset_index()\n",
    "to_remove_users = counted[counted[\"count\"] < 3][\"user_id\"].unique()"
   ]
  },
  {
   "cell_type": "code",
   "execution_count": 75,
   "id": "ca888859",
   "metadata": {},
   "outputs": [
    {
     "data": {
      "text/plain": [
       "119921"
      ]
     },
     "execution_count": 75,
     "metadata": {},
     "output_type": "execute_result"
    }
   ],
   "source": [
    "ratings = [r for r in ratings if r[0] not in to_remove_users]\n",
    "len(ratings)"
   ]
  },
  {
   "cell_type": "code",
   "execution_count": 79,
   "id": "e3327faa",
   "metadata": {},
   "outputs": [
    {
     "name": "stdout",
     "output_type": "stream",
     "text": [
      "rating_threshold = 1.0\n",
      "exclude_unknowns = False\n",
      "---\n",
      "Training data:\n",
      "Number of users = 5065\n",
      "Number of items = 36663\n",
      "Number of ratings = 105949\n",
      "Max rating = 5.0\n",
      "Min rating = 1.0\n",
      "Global mean = 3.9\n",
      "---\n",
      "Test data:\n",
      "Number of users = 5065\n",
      "Number of items = 8961\n",
      "Number of ratings = 13972\n",
      "Number of unknown users = 0\n",
      "Number of unknown items = 2857\n",
      "---\n",
      "Total users = 5065\n",
      "Total items = 39520\n",
      "\n",
      "[ConvMF] Training started!\n",
      "Epoch: 1/5\n"
     ]
    },
    {
     "name": "stderr",
     "output_type": "stream",
     "text": [
      "Optimizing CNN: 100%|██████████| 5/5 [24:14<00:00, 290.94s/it]\n"
     ]
    },
    {
     "name": "stdout",
     "output_type": "stream",
     "text": [
      "Loss: 64875018192.94695 Elapsed: 4376.9780s Converge: 6487501819294695709767316294497949216505447992797635247341568.000000 \n",
      "Epoch: 2/5\n"
     ]
    },
    {
     "name": "stderr",
     "output_type": "stream",
     "text": [
      "Optimizing CNN: 100%|██████████| 5/5 [23:24<00:00, 280.92s/it]\n"
     ]
    },
    {
     "name": "stdout",
     "output_type": "stream",
     "text": [
      "Loss: 201457673.69819 Elapsed: 5131.4179s Converge: 0.996895 \n",
      "Epoch: 3/5\n"
     ]
    },
    {
     "name": "stderr",
     "output_type": "stream",
     "text": [
      "Optimizing CNN: 100%|██████████| 5/5 [24:05<00:00, 289.11s/it]\n"
     ]
    },
    {
     "name": "stdout",
     "output_type": "stream",
     "text": [
      "Loss: 99645746.40399 Elapsed: 4831.9298s Converge: 0.505376 \n",
      "Epoch: 4/5\n"
     ]
    },
    {
     "name": "stderr",
     "output_type": "stream",
     "text": [
      "Optimizing CNN: 100%|██████████| 5/5 [3:52:30<00:00, 2790.06s/it]  \n"
     ]
    },
    {
     "name": "stdout",
     "output_type": "stream",
     "text": [
      "Loss: 94037139.40897 Elapsed: 17464.7101s Converge: 0.056285 \n",
      "Epoch: 5/5\n"
     ]
    },
    {
     "name": "stderr",
     "output_type": "stream",
     "text": [
      "Optimizing CNN: 100%|██████████| 5/5 [25:01<00:00, 300.26s/it]\n"
     ]
    },
    {
     "name": "stdout",
     "output_type": "stream",
     "text": [
      "Loss: 91574834.35241 Elapsed: 5282.7690s Converge: 0.026184 \n",
      "\n",
      "[ConvMF] Evaluation started!\n"
     ]
    },
    {
     "name": "stderr",
     "output_type": "stream",
     "text": [
      "Rating: 100%|██████████| 13972/13972 [00:01<00:00, 9625.22it/s] \n",
      "Ranking: 100%|██████████| 5065/5065 [01:00<00:00, 83.66it/s]"
     ]
    },
    {
     "name": "stdout",
     "output_type": "stream",
     "text": [
      "ConvMF model is saved to ./run/ConvMF/2022-06-16_10-44-31-255319.pkl\n",
      "\n",
      "TEST:\n",
      "...\n",
      "       |   RMSE |    AUC |  F1@20 |    MRR | NCRR@20 | NDCG@20 | Recall@20 |  Train (s) | Test (s)\n",
      "------ + ------ + ------ + ------ + ------ + ------- + ------- + --------- + ---------- + --------\n",
      "ConvMF | 0.7340 | 0.5615 | 0.0030 | 0.0086 |  0.0036 |  0.0062 |    0.0131 | 42494.7957 |  64.7510\n",
      "\n"
     ]
    },
    {
     "name": "stderr",
     "output_type": "stream",
     "text": [
      "\n"
     ]
    }
   ],
   "source": [
    "VERBOSE = True\n",
    "SEED = 42\n",
    "\n",
    "ratio_split = cornac.eval_methods.StratifiedSplit(\n",
    "    ratings,\n",
    "    group_by=\"user\",\n",
    "    fmt=\"UIR\",\n",
    "    test_size=0.1,\n",
    "    rating_threshold=1.0,\n",
    "    exclude_unknowns=False,\n",
    "    seed=SEED,\n",
    "    verbose=VERBOSE,\n",
    "    item_text=item_text_modality,\n",
    ")\n",
    "\n",
    "convmf = cornac.models.ConvMF(\n",
    "    n_epochs=5,\n",
    "    verbose=VERBOSE,\n",
    "    seed=SEED,\n",
    ")\n",
    "\n",
    "# Define metrics\n",
    "metrics = [\n",
    "    cornac.metrics.RMSE(),\n",
    "    cornac.metrics.FMeasure(k=20),\n",
    "    cornac.metrics.AUC(),\n",
    "    cornac.metrics.MRR(),\n",
    "    cornac.metrics.NCRR(k=20),\n",
    "    cornac.metrics.NDCG(k=20),\n",
    "    cornac.metrics.Recall(k=20)\n",
    "]\n",
    "\n",
    "cornac.Experiment(\n",
    "    eval_method=ratio_split,\n",
    "    models=[convmf],\n",
    "    metrics=metrics,\n",
    "    user_based=True,\n",
    "    verbose=VERBOSE,\n",
    "    save_dir=\"./run\",\n",
    ").run()"
   ]
  }
 ],
 "metadata": {
  "interpreter": {
   "hash": "4c68f50846d93ab2217631c85894a87f549e21ff7dc6e3f1332c100dc594f865"
  },
  "kernelspec": {
   "display_name": "Python 3.7.11 ('env': venv)",
   "language": "python",
   "name": "python3"
  },
  "language_info": {
   "codemirror_mode": {
    "name": "ipython",
    "version": 3
   },
   "file_extension": ".py",
   "mimetype": "text/x-python",
   "name": "python",
   "nbconvert_exporter": "python",
   "pygments_lexer": "ipython3",
   "version": "3.7.11"
  }
 },
 "nbformat": 4,
 "nbformat_minor": 5
}
