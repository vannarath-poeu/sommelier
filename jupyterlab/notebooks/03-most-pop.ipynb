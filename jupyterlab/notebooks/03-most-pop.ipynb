{
 "cells": [
  {
   "cell_type": "code",
   "execution_count": 1,
   "id": "62aecaba",
   "metadata": {},
   "outputs": [
    {
     "name": "stdout",
     "output_type": "stream",
     "text": [
      "FM model is only supported on Linux.\n",
      "Windows executable can be found at http://www.libfm.org.\n"
     ]
    }
   ],
   "source": [
    "import cornac\n",
    "import pandas as pd\n",
    "\n",
    "from cornac.data.reader import read_text"
   ]
  },
  {
   "cell_type": "code",
   "execution_count": 2,
   "id": "52e84f73",
   "metadata": {},
   "outputs": [
    {
     "data": {
      "text/plain": [
       "'1.14.2'"
      ]
     },
     "execution_count": 2,
     "metadata": {},
     "output_type": "execute_result"
    }
   ],
   "source": [
    "cornac.__version__"
   ]
  },
  {
   "cell_type": "code",
   "execution_count": 3,
   "id": "6b4ac6b2",
   "metadata": {},
   "outputs": [],
   "source": [
    "TRAINING_FILE_PATH = \"../../data/train_ratings_seen.csv\""
   ]
  },
  {
   "cell_type": "code",
   "execution_count": 5,
   "id": "96f7b024",
   "metadata": {},
   "outputs": [],
   "source": [
    "reader = cornac.data.Reader()\n",
    "ratings = reader.read(TRAINING_FILE_PATH, \"UIR\", sep=\",\", skip_lines=1)"
   ]
  },
  {
   "cell_type": "code",
   "execution_count": 6,
   "id": "e96c8e82",
   "metadata": {},
   "outputs": [
    {
     "data": {
      "text/plain": [
       "119922"
      ]
     },
     "execution_count": 6,
     "metadata": {},
     "output_type": "execute_result"
    }
   ],
   "source": [
    "len(ratings)"
   ]
  },
  {
   "cell_type": "code",
   "execution_count": 7,
   "id": "460da245",
   "metadata": {},
   "outputs": [],
   "source": [
    "train_df = pd.DataFrame(ratings, columns=[\"user_id\", \"item_id\", \"ratings\"])\n",
    "count_user = train_df.copy()\n",
    "count_user[\"count\"] = 1\n",
    "counted = count_user[[\"user_id\", \"count\"]].groupby([\"user_id\"]).sum().reset_index()\n",
    "to_remove_users = counted[counted[\"count\"] < 3][\"user_id\"].unique()"
   ]
  },
  {
   "cell_type": "code",
   "execution_count": 8,
   "id": "ca888859",
   "metadata": {},
   "outputs": [
    {
     "data": {
      "text/plain": [
       "119921"
      ]
     },
     "execution_count": 8,
     "metadata": {},
     "output_type": "execute_result"
    }
   ],
   "source": [
    "ratings = [r for r in ratings if r[0] not in to_remove_users]\n",
    "len(ratings)"
   ]
  },
  {
   "cell_type": "code",
   "execution_count": 9,
   "id": "e3327faa",
   "metadata": {},
   "outputs": [
    {
     "name": "stdout",
     "output_type": "stream",
     "text": [
      "rating_threshold = 1.0\n",
      "exclude_unknowns = False\n",
      "---\n",
      "Training data:\n",
      "Number of users = 5065\n",
      "Number of items = 36663\n",
      "Number of ratings = 105949\n",
      "Max rating = 5.0\n",
      "Min rating = 1.0\n",
      "Global mean = 3.9\n",
      "---\n",
      "Test data:\n",
      "Number of users = 5065\n",
      "Number of items = 8961\n",
      "Number of ratings = 13972\n",
      "Number of unknown users = 0\n",
      "Number of unknown items = 2857\n",
      "---\n",
      "Total users = 5065\n",
      "Total items = 39520\n",
      "\n",
      "[MostPop] Training started!\n",
      "\n",
      "[MostPop] Evaluation started!\n"
     ]
    },
    {
     "name": "stderr",
     "output_type": "stream",
     "text": [
      "Rating: 100%|██████████| 13972/13972 [00:00<00:00, 59851.80it/s]\n",
      "Ranking: 100%|██████████| 5065/5065 [00:23<00:00, 216.67it/s]"
     ]
    },
    {
     "name": "stdout",
     "output_type": "stream",
     "text": [
      "\n",
      "TEST:\n",
      "...\n",
      "        |   RMSE |    AUC |  F1@20 |    MRR | NCRR@20 | NDCG@20 | Recall@20 | Train (s) | Test (s)\n",
      "------- + ------ + ------ + ------ + ------ + ------- + ------- + --------- + --------- + --------\n",
      "MostPop | 1.2645 | 0.6449 | 0.0064 | 0.0212 |  0.0098 |  0.0146 |    0.0286 |    0.0110 |  24.3425\n",
      "\n"
     ]
    },
    {
     "name": "stderr",
     "output_type": "stream",
     "text": [
      "\n"
     ]
    }
   ],
   "source": [
    "VERBOSE = True\n",
    "SEED = 42\n",
    "\n",
    "ss = cornac.eval_methods.StratifiedSplit(\n",
    "    ratings,\n",
    "    group_by=\"user\",\n",
    "    fmt=\"UIR\",\n",
    "    test_size=0.1,\n",
    "    rating_threshold=1.0,\n",
    "    exclude_unknowns=False,\n",
    "    seed=SEED,\n",
    "    verbose=VERBOSE,\n",
    ")\n",
    "\n",
    "most_pop = cornac.models.MostPop()\n",
    "\n",
    "# Define metrics\n",
    "metrics = [\n",
    "    cornac.metrics.RMSE(),\n",
    "    cornac.metrics.FMeasure(k=20),\n",
    "    cornac.metrics.AUC(),\n",
    "    cornac.metrics.MRR(),\n",
    "    cornac.metrics.NCRR(k=20),\n",
    "    cornac.metrics.NDCG(k=20),\n",
    "    cornac.metrics.Recall(k=20)\n",
    "]\n",
    "\n",
    "cornac.Experiment(\n",
    "    eval_method=ss,\n",
    "    models=[most_pop],\n",
    "    metrics=metrics,\n",
    "    user_based=True,\n",
    "    verbose=VERBOSE,\n",
    "    save_dir=\"./run\",\n",
    ").run()"
   ]
  },
  {
   "cell_type": "code",
   "execution_count": 10,
   "id": "73519a02",
   "metadata": {},
   "outputs": [
    {
     "data": {
      "text/plain": [
       "<cornac.models.most_pop.recom_most_pop.MostPop at 0x7f9887c52cd0>"
      ]
     },
     "execution_count": 10,
     "metadata": {},
     "output_type": "execute_result"
    }
   ],
   "source": [
    "reader = cornac.data.Reader()\n",
    "ratings = reader.read(TRAINING_FILE_PATH, \"UIR\", sep=\",\", skip_lines=1)\n",
    "\n",
    "most_pop.fit(cornac.data.Dataset.from_uir(ratings))"
   ]
  },
  {
   "cell_type": "code",
   "execution_count": 11,
   "id": "412fe88a",
   "metadata": {},
   "outputs": [
    {
     "data": {
      "text/plain": [
       "'../../data/MostPop/2022-06-21_20-50-16-307424.pkl'"
      ]
     },
     "execution_count": 11,
     "metadata": {},
     "output_type": "execute_result"
    }
   ],
   "source": [
    "most_pop.save(\"../../data\")"
   ]
  }
 ],
 "metadata": {
  "kernelspec": {
   "display_name": "Python 3.7.11 ('base')",
   "language": "python",
   "name": "python3"
  },
  "language_info": {
   "codemirror_mode": {
    "name": "ipython",
    "version": 3
   },
   "file_extension": ".py",
   "mimetype": "text/x-python",
   "name": "python",
   "nbconvert_exporter": "python",
   "pygments_lexer": "ipython3",
   "version": "3.7.11"
  },
  "vscode": {
   "interpreter": {
    "hash": "abff9e23c2aee5c983a32681156deed5cc02249d27ccad0081051cd456f4f1fb"
   }
  }
 },
 "nbformat": 4,
 "nbformat_minor": 5
}
