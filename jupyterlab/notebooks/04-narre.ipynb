{
 "cells": [
  {
   "cell_type": "code",
   "execution_count": 13,
   "id": "62aecaba",
   "metadata": {},
   "outputs": [],
   "source": [
    "import cornac\n",
    "import pandas as pd\n",
    "\n",
    "from cornac.data.reader import read_text"
   ]
  },
  {
   "cell_type": "code",
   "execution_count": 14,
   "id": "52e84f73",
   "metadata": {},
   "outputs": [
    {
     "data": {
      "text/plain": [
       "'1.14.2'"
      ]
     },
     "execution_count": 14,
     "metadata": {},
     "output_type": "execute_result"
    }
   ],
   "source": [
    "cornac.__version__"
   ]
  },
  {
   "cell_type": "code",
   "execution_count": 15,
   "id": "6b4ac6b2",
   "metadata": {},
   "outputs": [],
   "source": [
    "REVIEWS_FILE_PATH = \"../../data/original/wine_reviews.csv\"\n",
    "TRAINING_FILE_PATH = \"../../data/train_ratings_seen.csv\""
   ]
  },
  {
   "cell_type": "code",
   "execution_count": 16,
   "id": "96f7b024",
   "metadata": {},
   "outputs": [],
   "source": [
    "reader = cornac.data.Reader()\n",
    "ratings = reader.read(TRAINING_FILE_PATH, \"UIR\", sep=\",\", skip_lines=1)"
   ]
  },
  {
   "cell_type": "code",
   "execution_count": 17,
   "id": "460da245",
   "metadata": {},
   "outputs": [],
   "source": [
    "train_df = pd.DataFrame(ratings, columns=[\"user_id\", \"item_id\", \"ratings\"])\n",
    "count_user = train_df.copy()\n",
    "count_user[\"count\"] = 1\n",
    "counted = count_user[[\"user_id\", \"count\"]].groupby([\"user_id\"]).sum().reset_index()\n",
    "to_remove_users = counted[counted[\"count\"] < 3][\"user_id\"].unique()"
   ]
  },
  {
   "cell_type": "code",
   "execution_count": 26,
   "id": "144db5cf",
   "metadata": {},
   "outputs": [
    {
     "data": {
      "text/plain": [
       "39520"
      ]
     },
     "execution_count": 26,
     "metadata": {},
     "output_type": "execute_result"
    }
   ],
   "source": [
    "len(train_df[\"item_id\"].unique())"
   ]
  },
  {
   "cell_type": "code",
   "execution_count": 18,
   "id": "e96c8e82",
   "metadata": {},
   "outputs": [
    {
     "data": {
      "text/plain": [
       "119922"
      ]
     },
     "execution_count": 18,
     "metadata": {},
     "output_type": "execute_result"
    }
   ],
   "source": [
    "len(ratings)"
   ]
  },
  {
   "cell_type": "code",
   "execution_count": 19,
   "id": "ca888859",
   "metadata": {},
   "outputs": [
    {
     "data": {
      "text/plain": [
       "119921"
      ]
     },
     "execution_count": 19,
     "metadata": {},
     "output_type": "execute_result"
    }
   ],
   "source": [
    "ratings = [r for r in ratings if r[0] not in to_remove_users]\n",
    "len(ratings)"
   ]
  },
  {
   "cell_type": "code",
   "execution_count": 22,
   "id": "446debcb",
   "metadata": {},
   "outputs": [],
   "source": [
    "train_set = set([(r[0], r[1]) for r in ratings])\n",
    "\n",
    "review_df = pd.read_csv(REVIEWS_FILE_PATH)\n",
    "\n",
    "reviews = []\n",
    "for r in review_df.itertuples():\n",
    "  tup = (str(r[1]), str(r[2]))\n",
    "  if tup in train_set:\n",
    "    reviews.append((str(r[1]), str(r[2]), str(r[3])))\n",
    "    train_set.remove(tup)\n",
    "\n",
    "for ts in train_set:\n",
    "  reviews.append((ts[0], ts[1], 'dummy'))"
   ]
  },
  {
   "cell_type": "code",
   "execution_count": 33,
   "id": "46eb44e5",
   "metadata": {},
   "outputs": [],
   "source": [
    "review_modality = cornac.data.ReviewModality(\n",
    "    data=reviews,\n",
    "    tokenizer=cornac.data.text.BaseTokenizer(stop_words=\"english\"),\n",
    "    max_vocab=3000,\n",
    "    max_doc_freq=0.5,\n",
    ")"
   ]
  },
  {
   "cell_type": "code",
   "execution_count": 35,
   "id": "e3327faa",
   "metadata": {},
   "outputs": [
    {
     "name": "stdout",
     "output_type": "stream",
     "text": [
      "rating_threshold = 1.0\n",
      "exclude_unknowns = True\n",
      "---\n",
      "Training data:\n",
      "Number of users = 5065\n",
      "Number of items = 36663\n",
      "Number of ratings = 105949\n",
      "Max rating = 5.0\n",
      "Min rating = 1.0\n",
      "Global mean = 3.9\n",
      "---\n",
      "Test data:\n",
      "Number of users = 4725\n",
      "Number of items = 6104\n",
      "Number of ratings = 11044\n",
      "Number of unknown users = 0\n",
      "Number of unknown items = 0\n",
      "---\n",
      "Total users = 5065\n",
      "Total items = 36663\n",
      "\n",
      "[NARRE] Training started!\n",
      "Number of OOV words: 404\n",
      "Model: \"model_7\"\n",
      "__________________________________________________________________________________________________\n",
      "Layer (type)                    Output Shape         Param #     Connected to                     \n",
      "==================================================================================================\n",
      "input_user_review (InputLayer)  [(None, None, 50)]   0                                            \n",
      "__________________________________________________________________________________________________\n",
      "input_item_review (InputLayer)  [(None, None, 50)]   0                                            \n",
      "__________________________________________________________________________________________________\n",
      "layer_user_review_embedding (Em (None, None, 50, 100 40400       input_user_review[0][0]          \n",
      "__________________________________________________________________________________________________\n",
      "input_user_iid_review (InputLay [(None, None)]       0                                            \n",
      "__________________________________________________________________________________________________\n",
      "layer_item_review_embedding (Em (None, None, 50, 100 40400       input_item_review[0][0]          \n",
      "__________________________________________________________________________________________________\n",
      "input_item_uid_review (InputLay [(None, None)]       0                                            \n",
      "__________________________________________________________________________________________________\n",
      "user_text_processor (TextProces (None, None, 64)     19264       layer_user_review_embedding[0][0]\n",
      "__________________________________________________________________________________________________\n",
      "user_iid_embedding (Embedding)  (None, None, 32)     1173216     input_user_iid_review[0][0]      \n",
      "__________________________________________________________________________________________________\n",
      "input_user_number_of_review (In [(None, 1)]          0                                            \n",
      "__________________________________________________________________________________________________\n",
      "item_text_processor (TextProces (None, None, 64)     19264       layer_item_review_embedding[0][0]\n",
      "__________________________________________________________________________________________________\n",
      "item_uid_embedding (Embedding)  (None, None, 32)     162080      input_item_uid_review[0][0]      \n",
      "__________________________________________________________________________________________________\n",
      "input_item_number_of_review (In [(None, 1)]          0                                            \n",
      "__________________________________________________________________________________________________\n",
      "tf.concat_14 (TFOpLambda)       (None, None, 96)     0           user_text_processor[0][0]        \n",
      "                                                                 user_iid_embedding[0][0]         \n",
      "__________________________________________________________________________________________________\n",
      "tf.reshape_14 (TFOpLambda)      (None,)              0           input_user_number_of_review[0][0]\n",
      "__________________________________________________________________________________________________\n",
      "tf.concat_15 (TFOpLambda)       (None, None, 96)     0           item_text_processor[0][0]        \n",
      "                                                                 item_uid_embedding[0][0]         \n",
      "__________________________________________________________________________________________________\n",
      "tf.reshape_15 (TFOpLambda)      (None,)              0           input_item_number_of_review[0][0]\n",
      "__________________________________________________________________________________________________\n",
      "dense_29 (Dense)                (None, None, 16)     1552        tf.concat_14[0][0]               \n",
      "__________________________________________________________________________________________________\n",
      "tf.sequence_mask_14 (TFOpLambda (None, None)         0           tf.reshape_14[0][0]              \n",
      "__________________________________________________________________________________________________\n",
      "dense_31 (Dense)                (None, None, 16)     1552        tf.concat_15[0][0]               \n",
      "__________________________________________________________________________________________________\n",
      "tf.sequence_mask_15 (TFOpLambda (None, None)         0           tf.reshape_15[0][0]              \n",
      "__________________________________________________________________________________________________\n",
      "dense_28 (Dense)                (None, None, 1)      17          dense_29[0][0]                   \n",
      "__________________________________________________________________________________________________\n",
      "tf.expand_dims_14 (TFOpLambda)  (None, None, 1)      0           tf.sequence_mask_14[0][0]        \n",
      "__________________________________________________________________________________________________\n",
      "dense_30 (Dense)                (None, None, 1)      17          dense_31[0][0]                   \n",
      "__________________________________________________________________________________________________\n",
      "tf.expand_dims_15 (TFOpLambda)  (None, None, 1)      0           tf.sequence_mask_15[0][0]        \n",
      "__________________________________________________________________________________________________\n",
      "user_attention (Softmax)        (None, None, 1)      0           dense_28[0][0]                   \n",
      "                                                                 tf.expand_dims_14[0][0]          \n",
      "__________________________________________________________________________________________________\n",
      "item_attention (Softmax)        (None, None, 1)      0           dense_30[0][0]                   \n",
      "                                                                 tf.expand_dims_15[0][0]          \n",
      "__________________________________________________________________________________________________\n",
      "multiply_14 (Multiply)          (None, None, 64)     0           user_attention[0][0]             \n",
      "                                                                 user_text_processor[0][0]        \n",
      "__________________________________________________________________________________________________\n",
      "multiply_15 (Multiply)          (None, None, 64)     0           item_attention[0][0]             \n",
      "                                                                 item_text_processor[0][0]        \n",
      "__________________________________________________________________________________________________\n",
      "tf.math.reduce_sum_14 (TFOpLamb (None, 64)           0           multiply_14[0][0]                \n",
      "__________________________________________________________________________________________________\n",
      "tf.math.reduce_sum_15 (TFOpLamb (None, 64)           0           multiply_15[0][0]                \n",
      "__________________________________________________________________________________________________\n",
      "input_user_id (InputLayer)      [(None, 1)]          0                                            \n",
      "__________________________________________________________________________________________________\n",
      "user_Oi (Dropout)               (None, 64)           0           tf.math.reduce_sum_14[0][0]      \n",
      "__________________________________________________________________________________________________\n",
      "input_item_id (InputLayer)      [(None, 1)]          0                                            \n",
      "__________________________________________________________________________________________________\n",
      "item_Oi (Dropout)               (None, 64)           0           tf.math.reduce_sum_15[0][0]      \n",
      "__________________________________________________________________________________________________\n",
      "user_embedding (Embedding)      (None, 1, 32)        162080      input_user_id[0][0]              \n",
      "__________________________________________________________________________________________________\n",
      "Xu (Dense)                      (None, 32)           2080        user_Oi[0][0]                    \n",
      "__________________________________________________________________________________________________\n",
      "item_embedding (Embedding)      (None, 1, 32)        1173216     input_item_id[0][0]              \n",
      "__________________________________________________________________________________________________\n",
      "Yi (Dense)                      (None, 32)           2080        item_Oi[0][0]                    \n",
      "__________________________________________________________________________________________________\n",
      "add_14 (Add)                    (None, 1, 32)        0           user_embedding[0][0]             \n",
      "                                                                 Xu[0][0]                         \n",
      "__________________________________________________________________________________________________\n",
      "add_15 (Add)                    (None, 1, 32)        0           item_embedding[0][0]             \n",
      "                                                                 Yi[0][0]                         \n",
      "__________________________________________________________________________________________________\n",
      "h0 (Multiply)                   (None, 1, 32)        0           add_14[0][0]                     \n",
      "                                                                 add_15[0][0]                     \n",
      "__________________________________________________________________________________________________\n",
      "W1 (Dense)                      (None, 1, 1)         32          h0[0][0]                         \n",
      "__________________________________________________________________________________________________\n",
      "user_bias (Embedding)           (None, 1, 1)         5065        input_user_id[0][0]              \n",
      "__________________________________________________________________________________________________\n",
      "item_bias (Embedding)           (None, 1, 1)         36663       input_item_id[0][0]              \n",
      "__________________________________________________________________________________________________\n",
      "prediction (Add)                (None, 1, 1)         0           W1[0][0]                         \n",
      "                                                                 user_bias[0][0]                  \n",
      "                                                                 item_bias[0][0]                  \n",
      "__________________________________________________________________________________________________\n",
      "global_bias (AddGlobalBias)     (None, 1, 1)         1           prediction[0][0]                 \n",
      "==================================================================================================\n",
      "Total params: 2,838,979\n",
      "Trainable params: 2,838,979\n",
      "Non-trainable params: 0\n",
      "__________________________________________________________________________________________________\n"
     ]
    },
    {
     "name": "stderr",
     "output_type": "stream",
     "text": [
      "100%|██████████| 10/10 [7:09:40<00:00, 2578.05s/it, best_epoch=None, best_val_loss=1e+9, loss=0.463, val_loss=0] \n"
     ]
    },
    {
     "name": "stdout",
     "output_type": "stream",
     "text": [
      "Learning completed!\n",
      "\n",
      "[NARRE] Evaluation started!\n"
     ]
    },
    {
     "name": "stderr",
     "output_type": "stream",
     "text": [
      "Rating: 100%|██████████| 11044/11044 [00:00<00:00, 26066.96it/s]\n",
      "Ranking: 100%|██████████| 4725/4725 [01:26<00:00, 54.90it/s]\n"
     ]
    },
    {
     "ename": "AttributeError",
     "evalue": "Can't pickle local object 'make_gradient_clipnorm_fn.<locals>.<lambda>'",
     "output_type": "error",
     "traceback": [
      "\u001b[0;31m---------------------------------------------------------------------------\u001b[0m",
      "\u001b[0;31mAttributeError\u001b[0m                            Traceback (most recent call last)",
      "\u001b[0;32m/var/folders/55/3vbd567n36jc5g5jzp24dpl00000gn/T/ipykernel_18328/2849843095.py\u001b[0m in \u001b[0;36m<module>\u001b[0;34m\u001b[0m\n\u001b[1;32m     49\u001b[0m     \u001b[0muser_based\u001b[0m\u001b[0;34m=\u001b[0m\u001b[0;32mTrue\u001b[0m\u001b[0;34m,\u001b[0m\u001b[0;34m\u001b[0m\u001b[0;34m\u001b[0m\u001b[0m\n\u001b[1;32m     50\u001b[0m     \u001b[0mverbose\u001b[0m\u001b[0;34m=\u001b[0m\u001b[0mVERBOSE\u001b[0m\u001b[0;34m,\u001b[0m\u001b[0;34m\u001b[0m\u001b[0;34m\u001b[0m\u001b[0m\n\u001b[0;32m---> 51\u001b[0;31m     \u001b[0msave_dir\u001b[0m\u001b[0;34m=\u001b[0m\u001b[0;34m\"./run\"\u001b[0m\u001b[0;34m,\u001b[0m\u001b[0;34m\u001b[0m\u001b[0;34m\u001b[0m\u001b[0m\n\u001b[0m\u001b[1;32m     52\u001b[0m ).run()\n",
      "\u001b[0;32m~/Documents/Projects/sommelier/env/lib/python3.7/site-packages/cornac/experiment/experiment.py\u001b[0m in \u001b[0;36mrun\u001b[0;34m(self)\u001b[0m\n\u001b[1;32m    141\u001b[0m \u001b[0;34m\u001b[0m\u001b[0m\n\u001b[1;32m    142\u001b[0m             \u001b[0;32mif\u001b[0m \u001b[0;32mnot\u001b[0m \u001b[0misinstance\u001b[0m\u001b[0;34m(\u001b[0m\u001b[0mself\u001b[0m\u001b[0;34m.\u001b[0m\u001b[0mresult\u001b[0m\u001b[0;34m,\u001b[0m \u001b[0mCVExperimentResult\u001b[0m\u001b[0;34m)\u001b[0m\u001b[0;34m:\u001b[0m\u001b[0;34m\u001b[0m\u001b[0;34m\u001b[0m\u001b[0m\n\u001b[0;32m--> 143\u001b[0;31m                 \u001b[0mmodel\u001b[0m\u001b[0;34m.\u001b[0m\u001b[0msave\u001b[0m\u001b[0;34m(\u001b[0m\u001b[0mself\u001b[0m\u001b[0;34m.\u001b[0m\u001b[0msave_dir\u001b[0m\u001b[0;34m)\u001b[0m\u001b[0;34m\u001b[0m\u001b[0;34m\u001b[0m\u001b[0m\n\u001b[0m\u001b[1;32m    144\u001b[0m \u001b[0;34m\u001b[0m\u001b[0m\n\u001b[1;32m    145\u001b[0m         \u001b[0moutput\u001b[0m \u001b[0;34m=\u001b[0m \u001b[0;34m\"\"\u001b[0m\u001b[0;34m\u001b[0m\u001b[0;34m\u001b[0m\u001b[0m\n",
      "\u001b[0;32m~/Documents/Projects/sommelier/env/lib/python3.7/site-packages/cornac/models/narre/recom_narre.py\u001b[0m in \u001b[0;36msave\u001b[0;34m(self, save_dir)\u001b[0m\n\u001b[1;32m    257\u001b[0m         \u001b[0;32mdel\u001b[0m \u001b[0mself\u001b[0m\u001b[0;34m.\u001b[0m\u001b[0mmodel\u001b[0m\u001b[0;34m\u001b[0m\u001b[0;34m\u001b[0m\u001b[0m\n\u001b[1;32m    258\u001b[0m \u001b[0;34m\u001b[0m\u001b[0m\n\u001b[0;32m--> 259\u001b[0;31m         \u001b[0mmodel_file\u001b[0m \u001b[0;34m=\u001b[0m \u001b[0mRecommender\u001b[0m\u001b[0;34m.\u001b[0m\u001b[0msave\u001b[0m\u001b[0;34m(\u001b[0m\u001b[0mself\u001b[0m\u001b[0;34m,\u001b[0m \u001b[0msave_dir\u001b[0m\u001b[0;34m)\u001b[0m\u001b[0;34m\u001b[0m\u001b[0;34m\u001b[0m\u001b[0m\n\u001b[0m\u001b[1;32m    260\u001b[0m \u001b[0;34m\u001b[0m\u001b[0m\n\u001b[1;32m    261\u001b[0m         \u001b[0mself\u001b[0m\u001b[0;34m.\u001b[0m\u001b[0mmodel\u001b[0m \u001b[0;34m=\u001b[0m \u001b[0mmodel\u001b[0m\u001b[0;34m\u001b[0m\u001b[0;34m\u001b[0m\u001b[0m\n",
      "\u001b[0;32m~/Documents/Projects/sommelier/env/lib/python3.7/site-packages/cornac/models/recommender.py\u001b[0m in \u001b[0;36msave\u001b[0;34m(self, save_dir)\u001b[0m\n\u001b[1;32m    120\u001b[0m \u001b[0;34m\u001b[0m\u001b[0m\n\u001b[1;32m    121\u001b[0m         pickle.dump(\n\u001b[0;32m--> 122\u001b[0;31m             \u001b[0msaved_model\u001b[0m\u001b[0;34m,\u001b[0m \u001b[0mopen\u001b[0m\u001b[0;34m(\u001b[0m\u001b[0mmodel_file\u001b[0m\u001b[0;34m,\u001b[0m \u001b[0;34m\"wb\"\u001b[0m\u001b[0;34m)\u001b[0m\u001b[0;34m,\u001b[0m \u001b[0mprotocol\u001b[0m\u001b[0;34m=\u001b[0m\u001b[0mpickle\u001b[0m\u001b[0;34m.\u001b[0m\u001b[0mHIGHEST_PROTOCOL\u001b[0m\u001b[0;34m\u001b[0m\u001b[0;34m\u001b[0m\u001b[0m\n\u001b[0m\u001b[1;32m    123\u001b[0m         )\n\u001b[1;32m    124\u001b[0m \u001b[0;34m\u001b[0m\u001b[0m\n",
      "\u001b[0;31mAttributeError\u001b[0m: Can't pickle local object 'make_gradient_clipnorm_fn.<locals>.<lambda>'"
     ]
    }
   ],
   "source": [
    "VERBOSE = True\n",
    "SEED = 42\n",
    "\n",
    "eval = cornac.eval_methods.StratifiedSplit(\n",
    "    ratings,\n",
    "    group_by=\"user\",\n",
    "    fmt=\"UIR\",\n",
    "    test_size=0.1,\n",
    "    rating_threshold=1.0,\n",
    "    exclude_unknowns=True,\n",
    "    seed=SEED,\n",
    "    verbose=VERBOSE,\n",
    "    review_text=review_modality,\n",
    ")\n",
    "\n",
    "pretrained_word_embeddings = {}\n",
    "\n",
    "narre = cornac.models.NARRE(\n",
    "    embedding_size=100,\n",
    "    id_embedding_size=32,\n",
    "    n_factors=32,\n",
    "    attention_size=16,\n",
    "    kernel_sizes=[3],\n",
    "    n_filters=64,\n",
    "    dropout_rate=0.5,\n",
    "    max_text_length=50,\n",
    "    batch_size=64,\n",
    "    max_iter=10,\n",
    "    init_params={'pretrained_word_embeddings': pretrained_word_embeddings},\n",
    "    verbose=VERBOSE,\n",
    "    seed=SEED,\n",
    ")\n",
    "\n",
    "# Define metrics\n",
    "metrics = [\n",
    "    cornac.metrics.RMSE(),\n",
    "    cornac.metrics.FMeasure(k=20),\n",
    "    cornac.metrics.AUC(),\n",
    "    cornac.metrics.MRR(),\n",
    "    cornac.metrics.NCRR(k=20),\n",
    "    cornac.metrics.NDCG(k=20),\n",
    "    cornac.metrics.Recall(k=20)\n",
    "]\n",
    "\n",
    "cornac.Experiment(\n",
    "    eval_method=eval,\n",
    "    models=[narre],\n",
    "    metrics=metrics,\n",
    "    user_based=True,\n",
    "    verbose=VERBOSE,\n",
    ").run()"
   ]
  },
  {
   "cell_type": "code",
   "execution_count": 52,
   "id": "f1c904b8",
   "metadata": {},
   "outputs": [
    {
     "name": "stdout",
     "output_type": "stream",
     "text": [
      "\n",
      "[NARRE] Training started!\n",
      "\n",
      "[NARRE] Evaluation started!\n"
     ]
    },
    {
     "name": "stderr",
     "output_type": "stream",
     "text": [
      "Rating: 100%|██████████| 11044/11044 [00:00<00:00, 36901.14it/s]\n",
      "Ranking: 100%|██████████| 4725/4725 [01:09<00:00, 68.12it/s]"
     ]
    },
    {
     "name": "stdout",
     "output_type": "stream",
     "text": [
      "\n",
      "TEST:\n",
      "...\n",
      "      |   RMSE |    AUC |  F1@20 |    MRR | NCRR@20 | NDCG@20 | Recall@20 | Train (s) | Test (s)\n",
      "----- + ------ + ------ + ------ + ------ + ------- + ------- + --------- + --------- + --------\n",
      "NARRE | 0.5749 | 0.5065 | 0.0001 | 0.0003 |  0.0000 |  0.0001 |    0.0003 |    0.0009 |  70.4030\n",
      "\n"
     ]
    },
    {
     "name": "stderr",
     "output_type": "stream",
     "text": [
      "\n"
     ]
    }
   ],
   "source": [
    "cornac.Experiment(\n",
    "    eval_method=eval,\n",
    "    models=[narre],\n",
    "    metrics=metrics,\n",
    "    user_based=True,\n",
    "    verbose=VERBOSE,\n",
    ").run()"
   ]
  },
  {
   "cell_type": "code",
   "execution_count": 51,
   "id": "6ab27fe5",
   "metadata": {},
   "outputs": [],
   "source": [
    "narre.trainable = False"
   ]
  },
  {
   "cell_type": "code",
   "execution_count": 49,
   "id": "971ac849",
   "metadata": {},
   "outputs": [
    {
     "data": {
      "text/plain": [
       "36663"
      ]
     },
     "execution_count": 49,
     "metadata": {},
     "output_type": "execute_result"
    }
   ],
   "source": [
    "len(i)"
   ]
  },
  {
   "cell_type": "code",
   "execution_count": 50,
   "id": "0e702c36",
   "metadata": {},
   "outputs": [
    {
     "data": {
      "text/plain": [
       "36663"
      ]
     },
     "execution_count": 50,
     "metadata": {},
     "output_type": "execute_result"
    }
   ],
   "source": [
    "len(j)"
   ]
  },
  {
   "cell_type": "code",
   "execution_count": 73,
   "id": "edca6f35",
   "metadata": {},
   "outputs": [
    {
     "data": {
      "text/plain": [
       "(32, 1)"
      ]
     },
     "execution_count": 73,
     "metadata": {},
     "output_type": "execute_result"
    }
   ],
   "source": [
    "narre.rev"
   ]
  }
 ],
 "metadata": {
  "interpreter": {
   "hash": "4c68f50846d93ab2217631c85894a87f549e21ff7dc6e3f1332c100dc594f865"
  },
  "kernelspec": {
   "display_name": "Python 3.7.11 ('env': venv)",
   "language": "python",
   "name": "python3"
  },
  "language_info": {
   "codemirror_mode": {
    "name": "ipython",
    "version": 3
   },
   "file_extension": ".py",
   "mimetype": "text/x-python",
   "name": "python",
   "nbconvert_exporter": "python",
   "pygments_lexer": "ipython3",
   "version": "3.7.11"
  }
 },
 "nbformat": 4,
 "nbformat_minor": 5
}
