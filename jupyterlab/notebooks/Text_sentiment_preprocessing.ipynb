{
 "cells": [
  {
   "cell_type": "markdown",
   "metadata": {},
   "source": [
    "### Preprocessimg review text and aspect&sentiment\n",
    "\n",
    "https://cornac.readthedocs.io/en/latest/_modules/cornac/data/sentiment.html"
   ]
  },
  {
   "cell_type": "code",
   "execution_count": 1,
   "metadata": {
    "scrolled": true
   },
   "outputs": [],
   "source": [
    "\n",
    "import nltk\n",
    "from nltk.tokenize import word_tokenize\n",
    "from nltk.tag import pos_tag\n",
    "from nltk.chunk import ne_chunk\n",
    "import numpy as np\n",
    "import pandas as pd\n",
    "import re\n",
    "from collections import defaultdict\n",
    "import nltk.corpus\n",
    "from textblob import TextBlob\n",
    "from nltk.sentiment import SentimentIntensityAnalyzer\n",
    "import emoji\n",
    "sia = SentimentIntensityAnalyzer()\n",
    "from string import punctuation #'!\"#$%&\\'()*+,-./:;<=>?@[\\\\]^_`{|}~'\n",
    "from nltk.corpus import stopwords\n",
    "stop = stopwords.words('english')"
   ]
  },
  {
   "cell_type": "markdown",
   "metadata": {},
   "source": [
    "##  Get top words and select aspect words\n"
   ]
  },
  {
   "cell_type": "code",
   "execution_count": 2,
   "metadata": {
    "scrolled": true
   },
   "outputs": [],
   "source": [
    "review_df=pd.read_csv(\"data/wine_reviews.csv\", header=0)\n",
    "review_df_10=pd.read_csv(\"data/reviews_10_all.csv\")"
   ]
  },
  {
   "cell_type": "code",
   "execution_count": 3,
   "metadata": {},
   "outputs": [],
   "source": [
    "\n",
    "def get_common_words(str_all,N_words, print_words=True):\n",
    "    \n",
    "    str_all=''.join (w for w in list(str_all) if w not in list(punctuation+','))\n",
    "    str_all= emoji.replace_emoji(str_all)\n",
    "    wd_list=pd.Series([w for w in str_all.split() if w not in stop ]).value_counts()\n",
    "    freq = wd_list[:N_words]    \n",
    "    rare = [x[0] for x in wd_list.iteritems() if x[1] < 2]\n",
    "    if print_words:\n",
    "        print(\"\\nCommon words:\\n\")\n",
    "        print(\" | \".join(key+\": \"+str(value) for key, value in freq.items()))\n",
    "        print(\"\\nRare words:\\n\")\n",
    "        print(\" | \".join(key+\": \"+str(value) for key, value in wd_list[-N_words:].items()))\n",
    "    return list(freq.keys())\n",
    "\n",
    "    \n",
    "top_words=get_common_words(review_df['review'].str.cat(sep=' '),200,print_words=False)\n",
    "top_words_10=get_common_words(review_df_10['Review'].str.cat(sep=' '),200,print_words=False)"
   ]
  },
  {
   "cell_type": "code",
   "execution_count": 54,
   "metadata": {},
   "outputs": [
    {
     "data": {
      "text/plain": [
       "'wine:NN good:JJ medium:NN finish:NN nose:JJ fruit:NN fruity:NN smooth:RB red:JJ nice:JJ oak:NN dry:JJ light:NN easy:JJ taste:NN drink:NN cherry:NN tannins:VBZ notes:NNS well:RB acidity:RB bodied:VBN sweet:JJ dark:JJ full:JJ great:JJ body:NN palate:JJ vanilla:NN plum:NN long:JJ black:JJ balanced:VBN fruits:NNS value:NN like:IN bit:NN drinking:VBG chocolate:NN leather:NN citrus:NN earthy:JJ strong:JJ blackberry:NN high:JJ berries:NNS slightly:RB hint:VBP apple:NN pepper:NN tobacco:NN little:JJ bottle:NN lovely:RB still:RB lemon:JJ bold:JJ quite:JJ price:NN hints:NNS deep:VBP really:RB one:CD acidic:JJ fresh:JJ ruby:NN much:JJ honey:NN spicy:NN complex:JJ slight:NN tannin:NN green:JJ flavours:NN first:RB better:RBR balance:NN time:NN it’s:JJ oaky:JJ spice:NN aroma:NN soft:JJ strawberry:NN excellent:NN rich:JJ flavour:JJ floral:JJ white:JJ colour:NN beautiful:NN raspberry:NN cherries:NNS ripe:VBP alcohol:NN refreshing:NN young:JJ elegant:JJ food:NN pleasant:NN tannic:NN would:MD decent:VB years:NNS love:VB pear:RB delicious:JJ blackcurrant:NN crisp:NN money:NN enjoyable:JJ pinot:NN peach:NN minerals:NNS short:JJ best:JJS bouquet:JJ vintage:NN aromas:JJ complexity:NN low:NN med:VBD berry:NN dried:VBN intensity:NN goes:VBZ perfect:JJ yet:RB sour:JJ sweetness:NN heavy:JJ overall:JJ amazing:JJ cheese:NN smoke:NN structure:NN big:JJ mouth:NN shiraz:JJ note:NN lots:NNS aftertaste:VBP drinkable:JJ intense:JJ pretty:RB paired:JJ super:JJ licorice:NN even:RB bad:JJ apricot:NN smell:NN open:JJ end:NN color:NN needs:VBZ dinner:NN pale:NN stone:NN rounded:VBD tasted:JJ meat:NN palette:NN silky:JJ day:NN mineral:VBD almost:RB hour:NN go:VBP length:NN grapefruit:NN definitely:RB tastes:VBZ interesting:JJ spices:NNS finishing:VBG get:NN age:NN buttery:NN fine:JJ purple:JJ acid:NN bitter:NN mild:NN mid:JJ enjoyed:VBN butter:NN steak:NN bright:VBD though:IN ok:JJ orange:NN cedar:NN n:IN another:DT cassis:NN hours:NNS glass:VBP decant:JJ blend:NN'"
      ]
     },
     "execution_count": 54,
     "metadata": {},
     "output_type": "execute_result"
    }
   ],
   "source": [
    "#nltk.pos_tag(top_words)\n",
    "' '.join(':'.join(x) for x in nltk.pos_tag(top_words))"
   ]
  },
  {
   "cell_type": "code",
   "execution_count": 55,
   "metadata": {
    "scrolled": true
   },
   "outputs": [
    {
     "data": {
      "text/plain": [
       "'wine:NN fruit:NN nose:JJ finish:JJ red:JJ acidity:NN good:JJ I:PRP tannins:VBP cherry:JJ Very:NNP oak:MD A:NNP notes:NNS medium:NN palate:NN nice:JJ body:NN well:RB black:JJ dry:JJ taste:NN dark:JJ vanilla:NN light:JJ smooth:PDT The:DT balanced:JJ fruits:NNS great:JJ Medium:NNP bit:NN long:JJ plum:RB Good:JJ This:DT like:JJ sweet:JJ fruity:NN Great:NNP citrus:NN apple:NN Nice:NNP bodied:VBD pepper:IN full:JJ leather:NN drink:NN fresh:JJ lemon:NN chocolate:NN white:JJ one:CD little:JJ Not:RB color:NN blackberry:NN price:NN value:NN high:JJ aromas:NN green:JJ earthy:JJ Light:NNP Dry:NNP ripe:NN tobacco:NN de:IN berries:NNS balance:NN spice:NN raspberry:VBP colour:NN strawberry:NN bottle:VBD hint:JJ easy:JJ drinking:VBG peach:NN soft:JJ pear:NN complex:JJ years:NNS still:RB It:PRP honey:VBZ really:RB rich:JJ time:NN ruby:VB much:JJ hints:NNS flavours:JJ cherries:NNS Fruity:NNP On:IN alcohol:NN Dark:NNP mouth:NN tannin:NN quite:RB Smooth:NNP Pinot:NNP elegant:JJ aroma:NN intensity:NN minerals:NNS spices:NNS acid:VBP Full:NNP spicy:NN Lovely:NNP amp:VBZ floral:JJ aftertaste:NN better:RBR strong:JJ flavors:NNS Nose:NNP blend:VBP dried:VBN minerality:NN touch:JJ mineral:NN first:RB best:RB lovely:RB wines:VBZ slightly:RB pleasant:JJ yellow:JJ smoke:NN would:MD glass:VB Deep:NNP Excellent:NNP food:NN young:JJ med:VBD acidic:JJ Really:NNP flavor:JJ deep:JJ structure:NN crisp:NN length:VBZ flavour:VBP stone:NN complexity:NN delicious:JJ licorice:NN vintage:NN grapefruit:NN lime:NN Chardonnay:NNP fine:JJ tasting:NN Long:NNP intense:JJ apricot:NN style:NN Red:NNP orange:NN yet:RB Well:NNP currant:NN refreshing:VBG herbs:NNS butter:RB bold:VBP berry:JJ it’s:NN slight:VBD perfect:JJ Beautiful:NNP beautiful:NN e:NN Palate:NNP enjoyable:JJ Easy:NNP quality:NN sweetness:NN Fresh:NNP also:RB Quite:RB lot:JJ tropical:JJ plus:CC subtle:JJ made:VBN juicy:NN cedar:NN almost:RB even:RB pineapple:VBP rose:VBD earth:NN big:JJ get:VB sour:JJ'"
      ]
     },
     "execution_count": 55,
     "metadata": {},
     "output_type": "execute_result"
    }
   ],
   "source": [
    "' '.join(':'.join(x) for x in nltk.pos_tag(top_words_10))\n"
   ]
  },
  {
   "cell_type": "markdown",
   "metadata": {},
   "source": [
    "## Process item review data"
   ]
  },
  {
   "cell_type": "code",
   "execution_count": 4,
   "metadata": {},
   "outputs": [],
   "source": [
    "def process_reviews_df(df, col):\n",
    "    df[col]=df[col].astype(str)\n",
    "    df[col]=df[col].str.lower()\n",
    "    df[col]=df[col].apply(lambda x: ''.join (w for w in list(x) if w not in list(punctuation+',')))\n",
    "    df[col]=df[col].apply(lambda x: emoji.replace_emoji(x))\n",
    "    df[col]=df[col].apply(lambda x:re.sub('[\\s]', ' ', x))\n",
    "    df[col]=df[col].str.replace('bodied','body')\n",
    "    df[col]=df[col].str.replace('fruits','fruit')\n",
    "    df[col]=df[col].str.replace('fruity','fruit')\n",
    "    df[col]=df[col].str.replace('spicy','spice')\n",
    "    df[col]=df[col].str.replace('sweetness','sweet')\n",
    "    df[col]=df[col].str.replace('spicy','spice')\n",
    "    df[col]=df[col].str.replace('tannin','tannins')\n",
    "    \n",
    "    #keep stop words to keep negative words like not, few\n",
    "    #df[col]=df[col].apply(lambda x: ' '.join (wd for wd in nltk.word_tokenize(x) if wd not in stop))\n",
    "    return df\n"
   ]
  },
  {
   "cell_type": "code",
   "execution_count": 5,
   "metadata": {},
   "outputs": [
    {
     "data": {
      "text/html": [
       "<div>\n",
       "<style scoped>\n",
       "    .dataframe tbody tr th:only-of-type {\n",
       "        vertical-align: middle;\n",
       "    }\n",
       "\n",
       "    .dataframe tbody tr th {\n",
       "        vertical-align: top;\n",
       "    }\n",
       "\n",
       "    .dataframe thead th {\n",
       "        text-align: right;\n",
       "    }\n",
       "</style>\n",
       "<table border=\"1\" class=\"dataframe\">\n",
       "  <thead>\n",
       "    <tr style=\"text-align: right;\">\n",
       "      <th></th>\n",
       "      <th>user_id</th>\n",
       "      <th>item_id</th>\n",
       "      <th>review</th>\n",
       "    </tr>\n",
       "  </thead>\n",
       "  <tbody>\n",
       "    <tr>\n",
       "      <th>0</th>\n",
       "      <td>34297304</td>\n",
       "      <td>1135067</td>\n",
       "      <td>smoky tobacco</td>\n",
       "    </tr>\n",
       "    <tr>\n",
       "      <th>1</th>\n",
       "      <td>34297304</td>\n",
       "      <td>7103</td>\n",
       "      <td>easy to drink amarone not really bold for amar...</td>\n",
       "    </tr>\n",
       "    <tr>\n",
       "      <th>2</th>\n",
       "      <td>34297304</td>\n",
       "      <td>5927106</td>\n",
       "      <td>chocolate tobacco cherry</td>\n",
       "    </tr>\n",
       "    <tr>\n",
       "      <th>3</th>\n",
       "      <td>34297304</td>\n",
       "      <td>18739</td>\n",
       "      <td>prune</td>\n",
       "    </tr>\n",
       "    <tr>\n",
       "      <th>4</th>\n",
       "      <td>34297304</td>\n",
       "      <td>77149</td>\n",
       "      <td>light simple amarone</td>\n",
       "    </tr>\n",
       "    <tr>\n",
       "      <th>...</th>\n",
       "      <td>...</td>\n",
       "      <td>...</td>\n",
       "      <td>...</td>\n",
       "    </tr>\n",
       "    <tr>\n",
       "      <th>72455</th>\n",
       "      <td>58534725</td>\n",
       "      <td>18978</td>\n",
       "      <td>tropical fruit and clean and refreshing taste ...</td>\n",
       "    </tr>\n",
       "    <tr>\n",
       "      <th>72456</th>\n",
       "      <td>58534725</td>\n",
       "      <td>3071535</td>\n",
       "      <td>red plum light body low acidity well balanced ...</td>\n",
       "    </tr>\n",
       "    <tr>\n",
       "      <th>72457</th>\n",
       "      <td>58534725</td>\n",
       "      <td>1244</td>\n",
       "      <td>ok quality at this price point not complex enough</td>\n",
       "    </tr>\n",
       "    <tr>\n",
       "      <th>72458</th>\n",
       "      <td>58534725</td>\n",
       "      <td>24056</td>\n",
       "      <td>pronounced blackberry and pepper notes full bo...</td>\n",
       "    </tr>\n",
       "    <tr>\n",
       "      <th>72459</th>\n",
       "      <td>58534725</td>\n",
       "      <td>10241561</td>\n",
       "      <td>long finish and complex notes</td>\n",
       "    </tr>\n",
       "  </tbody>\n",
       "</table>\n",
       "<p>72460 rows × 3 columns</p>\n",
       "</div>"
      ],
      "text/plain": [
       "        user_id   item_id                                             review\n",
       "0      34297304   1135067                                    smoky tobacco  \n",
       "1      34297304      7103  easy to drink amarone not really bold for amar...\n",
       "2      34297304   5927106                           chocolate tobacco cherry\n",
       "3      34297304     18739                                              prune\n",
       "4      34297304     77149                              light simple amarone \n",
       "...         ...       ...                                                ...\n",
       "72455  58534725     18978  tropical fruit and clean and refreshing taste ...\n",
       "72456  58534725   3071535  red plum light body low acidity well balanced ...\n",
       "72457  58534725      1244  ok quality at this price point not complex enough\n",
       "72458  58534725     24056  pronounced blackberry and pepper notes full bo...\n",
       "72459  58534725  10241561                      long finish and complex notes\n",
       "\n",
       "[72460 rows x 3 columns]"
      ]
     },
     "execution_count": 5,
     "metadata": {},
     "output_type": "execute_result"
    }
   ],
   "source": [
    "review_df_user=pd.read_csv(\"data/wine_reviews.csv\", header=0)\n",
    "process_reviews_df(review_df_user, 'review')\n",
    "review_df_top10=pd.read_csv(\"data/reviews_10_all.csv\", header=0)\n",
    "process_reviews_df(review_df_top10, 'Review')"
   ]
  },
  {
   "cell_type": "code",
   "execution_count": 7,
   "metadata": {},
   "outputs": [],
   "source": [
    "review_df_user.to_csv(\"data/reviews_processed.csv\", index=False)\n",
    "review_df_top10.to_csv(\"data/reviews_10_processed.csv\", index=False)"
   ]
  },
  {
   "cell_type": "code",
   "execution_count": 8,
   "metadata": {},
   "outputs": [],
   "source": [
    "#aspects.csv  -- manually selected\n",
    "aspects=pd.read_csv(\"data/aspects.csv\", header=0)\n",
    "WordList = list(aspects[\"WORD\"].astype(str))\n",
    "WordSentiment=['finish','acidity','tannins','body','aromas','price']\n"
   ]
  },
  {
   "cell_type": "markdown",
   "metadata": {},
   "source": [
    "## Start to extract aspects and sentiment"
   ]
  },
  {
   "cell_type": "code",
   "execution_count": 10,
   "metadata": {},
   "outputs": [],
   "source": [
    "#MODE=\"test\" # for performance monotoring and debugging\n",
    "MODE=\"prod\"\n"
   ]
  },
  {
   "cell_type": "code",
   "execution_count": 11,
   "metadata": {},
   "outputs": [],
   "source": [
    "def def_value():\n",
    "    return []"
   ]
  },
  {
   "cell_type": "code",
   "execution_count": 12,
   "metadata": {},
   "outputs": [],
   "source": [
    "def extract_aspect_sentiment(df_review, col):\n",
    "    dic=defaultdict(def_value)\n",
    "    if MODE==\"prod\":\n",
    "        df=df_review.copy()\n",
    "    else:\n",
    "        df=df_review.iloc[:1000].copy()\n",
    "    df[col]='This is '+ df[col]\n",
    "\n",
    "    df['token']=df[col].apply(lambda x:nltk.word_tokenize(x))\n",
    "    df['blob']=df[col].apply(lambda x: TextBlob(x).ngrams(2))\n",
    "    #print(df)\n",
    "    #nltk.pos_tag(sent)\n",
    "    counter=0\n",
    "    for uid,iid,_,tks,blb in df.itertuples(index=False):\n",
    "        counter=counter+1\n",
    "        for wd in list(set(WordList) - set(WordSentiment)):\n",
    "            if wd in tks:\n",
    "                dic[uid,iid].append((wd,'notable',1))\n",
    "        for wd in WordSentiment:\n",
    "            #print(blb)\n",
    "            pos=[p[0] for p in blb if (p[1] ==wd and nltk.pos_tag(p)[0][1].startswith(\"JJ\") and sia.polarity_scores(p[0])['neg']<=0.5) ] \n",
    "            neg=[p[0] for p in blb if (p[1] ==wd and nltk.pos_tag(p)[0][1].startswith(\"JJ\") and sia.polarity_scores(p[0])['neg']>0.5) ] \n",
    "            #pos=[p[0] for p in blb if (p[1] ==wd  and sia.polarity_scores(p[0])['neg']<=0.5) ] \n",
    "            #neg=[p[0] for p in blb if (p[1] ==wd  and sia.polarity_scores(p[0])['neg']>0.5) ] \n",
    "            pos.extend([p[1] for p in blb if (p[0] ==wd  and nltk.pos_tag(p)[1][1].startswith(\"JJ\") and sia.polarity_scores(p[1])['neg']<=0.5) ] )\n",
    "            neg.extend([p[1] for p in blb if (p[0] ==wd  and nltk.pos_tag(p)[1][1].startswith(\"JJ\") and sia.polarity_scores(p[1])['neg']>0.5) ] )\n",
    "            #dic[iid,wd]+=(pos-neg)\n",
    "            if len(pos)>0:\n",
    "                #dic[iid].append(':'.join([wd,pos[0],'1']))\n",
    "\n",
    "                dic[uid,iid].append((wd,pos[0],1))\n",
    "            if len(neg)>0:\n",
    "                dic[uid,iid].append((wd,neg[0],-1))\n",
    "\n",
    "\n",
    "        if counter%20000==0: print(counter)\n",
    "    return dic\n"
   ]
  },
  {
   "cell_type": "code",
   "execution_count": 13,
   "metadata": {
    "scrolled": true
   },
   "outputs": [
    {
     "name": "stdout",
     "output_type": "stream",
     "text": [
      "20000\n",
      "40000\n",
      "60000\n"
     ]
    }
   ],
   "source": [
    "review_df_user=pd.read_csv(\"data/reviews_processed.csv\", header=0)\n",
    "sentiment_dic=extract_aspect_sentiment(review_df, 'review')"
   ]
  },
  {
   "cell_type": "code",
   "execution_count": 14,
   "metadata": {},
   "outputs": [],
   "source": [
    "with open(\"data/sentiment_ui.txt\", \"w\",encoding='utf-8',errors='ignore') as f:\n",
    "    for key,item in sentiment_dic.items():\n",
    "        if len(item)>0:\n",
    "            sline=str(key[0])+','+str(key[1])+','+','.join ([':'.join([x,y,str(z)]) for x,y,z in list(set(item))])\n",
    "            if sline[-1]==',':\n",
    "                sline=sline[:-1]\n",
    "            f.write(f\"{sline}\\n\")"
   ]
  },
  {
   "cell_type": "code",
   "execution_count": 24,
   "metadata": {},
   "outputs": [
    {
     "name": "stdout",
     "output_type": "stream",
     "text": [
      "20000\n",
      "40000\n",
      "60000\n",
      "80000\n",
      "100000\n",
      "120000\n",
      "140000\n",
      "160000\n",
      "180000\n",
      "200000\n",
      "220000\n",
      "240000\n",
      "260000\n",
      "280000\n",
      "300000\n",
      "320000\n",
      "340000\n",
      "360000\n",
      "380000\n",
      "400000\n",
      "420000\n"
     ]
    }
   ],
   "source": [
    "review_df_top10=pd.read_csv(\"data/reviews_10_processed.csv\", header=0)\n",
    "\n",
    "#Remove blank and nan !!!\n",
    "sentiment_dic_10=extract_aspect_sentiment(review_df_top10, 'Review')"
   ]
  },
  {
   "cell_type": "code",
   "execution_count": 27,
   "metadata": {
    "scrolled": false
   },
   "outputs": [],
   "source": [
    "# combine two dictionaries\n",
    "sentiment_dic_10.update(sentiment_dic)  \n",
    "\n",
    "with open(\"data/sentiment_all.txt\", \"w\",encoding='utf-8',errors='ignore') as f:\n",
    "    for key,item in sentiment_dic_10.items():\n",
    "        if len(item)>0:\n",
    "            sline=str(key[0])+','+str(key[1])+','+','.join ([':'.join([x,y,str(z)]) for x,y,z in list(set(item))])\n",
    "            if sline[-1]==',':\n",
    "                sline=sline[:-1]\n",
    "            f.write(f\"{sline}\\n\")\n",
    "      "
   ]
  },
  {
   "cell_type": "code",
   "execution_count": 26,
   "metadata": {},
   "outputs": [],
   "source": [
    "\n",
    "\n",
    "import pickle\n",
    "with open('sentiment_dic_10.pkl', 'wb') as f:\n",
    "    pickle.dump(sentiment_dic_10, f)\n",
    "\n"
   ]
  }
 ],
 "metadata": {
  "kernelspec": {
   "display_name": "Python 3 (ipykernel)",
   "language": "python",
   "name": "python3"
  },
  "language_info": {
   "codemirror_mode": {
    "name": "ipython",
    "version": 3
   },
   "file_extension": ".py",
   "mimetype": "text/x-python",
   "name": "python",
   "nbconvert_exporter": "python",
   "pygments_lexer": "ipython3",
   "version": "3.7.13"
  }
 },
 "nbformat": 4,
 "nbformat_minor": 2
}
